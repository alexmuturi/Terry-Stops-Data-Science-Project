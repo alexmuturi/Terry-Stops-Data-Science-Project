{
 "cells": [
  {
   "cell_type": "markdown",
   "metadata": {},
   "source": [
    "# Reasonable Suspicion - Terry Stops Prediction  "
   ]
  },
  {
   "cell_type": "markdown",
   "metadata": {},
   "source": [
    "## Business Understanding "
   ]
  },
  {
   "cell_type": "markdown",
   "metadata": {},
   "source": [
    "In 1968, the United States Supreme Court made a landmark decision that made it constitutional for American police to stop and frisk a person if they reasonably suspected that the said person was armed or involved in a crime. Even without probable cause for arrest, an officer does not violate the Fourth Ammendment to the constitution that prohibits unreasonable searches by stopping and frisking a person as long as they have reasonable suspicion.  \n",
    "\n",
    "Such an investigative 'stop and frisk' stop became widely known as a Terry Stop (from the case *[Terry v Ohio](https://www.law.cornell.edu/supremecourt/text/392/1))* and the data recorded during such stops is available on [Seattle's Official City Government website.](https://data.seattle.gov/Public-Safety/Terry-Stops/28ny-9ts8)\n",
    "\n",
    "### Business Problem\n",
    "To decide on whether or not to make such a stop, an officer is required to pay attention to several factors about the sorrounding, time of day and particulars of the subject. The Seattle Police Department aims to reduce crime by ensuring they **accurately** stop, frisk and arrest as many suspicious individuals as possible. However, they need to strike a balance between stopping criminals and inconveniencing innocent citizens.\n",
    "\n",
    "### Business Solution\n",
    "This project aims to use machine learning models to help officers acheive the above goal. The dataset used contains the above factors and intends to use this historical information to help predict whether or not a Terry Stop should be made given prevailing circumstances. \n",
    "\n",
    "### Stakeholders\n",
    "- Seattle Police Department \n"
   ]
  },
  {
   "cell_type": "markdown",
   "metadata": {},
   "source": [
    "## Data Understanding "
   ]
  },
  {
   "cell_type": "markdown",
   "metadata": {},
   "source": [
    "Each row in the dataset contains a unique record of a Terry Stop, as reported by the officer conducting the stop. This section will load and explore the data to understand the structure, size and observable patterns.\n",
    "\n",
    "It will also cover the cleaning and manipulation of the data as will be deemed necessary.  \n"
   ]
  },
  {
   "cell_type": "markdown",
   "metadata": {},
   "source": [
    "### Exploratory Data Analysis"
   ]
  },
  {
   "cell_type": "code",
   "execution_count": 1,
   "metadata": {},
   "outputs": [],
   "source": [
    "# import necessary libraries and modules\n",
    "import numpy as np\n",
    "import pandas as pd\n",
    "import matplotlib.pyplot as plt\n",
    "%matplotlib inline\n",
    "from sklearn.model_selection import train_test_split, GridSearchCV, cross_val_score\n",
    "from sklearn.tree import DecisionTreeClassifier\n",
    "from sklearn.ensemble import RandomForestClassifier\n",
    "from sklearn.linear_model import LogisticRegression\n",
    "from sklearn.metrics import (accuracy_score, confusion_matrix, roc_curve, roc_auc_score, classification_report,\n",
    "                             precision_score, recall_score, precision_recall_curve, f1_score)\n",
    "from sklearn.preprocessing import OneHotEncoder\n",
    "from sklearn import tree\n",
    "from sklearn.metrics import auc\n",
    "from sklearn.metrics import ConfusionMatrixDisplay\n",
    "\n"
   ]
  },
  {
   "cell_type": "code",
   "execution_count": 2,
   "metadata": {},
   "outputs": [
    {
     "data": {
      "text/html": [
       "<div>\n",
       "<style scoped>\n",
       "    .dataframe tbody tr th:only-of-type {\n",
       "        vertical-align: middle;\n",
       "    }\n",
       "\n",
       "    .dataframe tbody tr th {\n",
       "        vertical-align: top;\n",
       "    }\n",
       "\n",
       "    .dataframe thead th {\n",
       "        text-align: right;\n",
       "    }\n",
       "</style>\n",
       "<table border=\"1\" class=\"dataframe\">\n",
       "  <thead>\n",
       "    <tr style=\"text-align: right;\">\n",
       "      <th></th>\n",
       "      <th>Subject Age Group</th>\n",
       "      <th>Subject ID</th>\n",
       "      <th>GO / SC Num</th>\n",
       "      <th>Terry Stop ID</th>\n",
       "      <th>Stop Resolution</th>\n",
       "      <th>Weapon Type</th>\n",
       "      <th>Officer ID</th>\n",
       "      <th>Officer YOB</th>\n",
       "      <th>Officer Gender</th>\n",
       "      <th>Officer Race</th>\n",
       "      <th>...</th>\n",
       "      <th>Reported Time</th>\n",
       "      <th>Initial Call Type</th>\n",
       "      <th>Final Call Type</th>\n",
       "      <th>Call Type</th>\n",
       "      <th>Officer Squad</th>\n",
       "      <th>Arrest Flag</th>\n",
       "      <th>Frisk Flag</th>\n",
       "      <th>Precinct</th>\n",
       "      <th>Sector</th>\n",
       "      <th>Beat</th>\n",
       "    </tr>\n",
       "  </thead>\n",
       "  <tbody>\n",
       "    <tr>\n",
       "      <th>0</th>\n",
       "      <td>56 and Above</td>\n",
       "      <td>-1</td>\n",
       "      <td>20160000325874</td>\n",
       "      <td>191650</td>\n",
       "      <td>Offense Report</td>\n",
       "      <td>None</td>\n",
       "      <td>6672</td>\n",
       "      <td>1966</td>\n",
       "      <td>M</td>\n",
       "      <td>White</td>\n",
       "      <td>...</td>\n",
       "      <td>17:26:00.0000000</td>\n",
       "      <td>NUISANCE - MISCHIEF</td>\n",
       "      <td>--MISCHIEF OR NUISANCE - GENERAL</td>\n",
       "      <td>ONVIEW</td>\n",
       "      <td>SOUTHWEST PCT OPS - CPT</td>\n",
       "      <td>N</td>\n",
       "      <td>N</td>\n",
       "      <td>Southwest</td>\n",
       "      <td>F</td>\n",
       "      <td>F2</td>\n",
       "    </tr>\n",
       "    <tr>\n",
       "      <th>1</th>\n",
       "      <td>26 - 35</td>\n",
       "      <td>-1</td>\n",
       "      <td>20180000368757</td>\n",
       "      <td>488017</td>\n",
       "      <td>Offense Report</td>\n",
       "      <td>None</td>\n",
       "      <td>5350</td>\n",
       "      <td>1964</td>\n",
       "      <td>M</td>\n",
       "      <td>White</td>\n",
       "      <td>...</td>\n",
       "      <td>18:38:00.0000000</td>\n",
       "      <td>-</td>\n",
       "      <td>-</td>\n",
       "      <td>-</td>\n",
       "      <td>PAWN DETAIL</td>\n",
       "      <td>N</td>\n",
       "      <td>N</td>\n",
       "      <td>North</td>\n",
       "      <td>N</td>\n",
       "      <td>N2</td>\n",
       "    </tr>\n",
       "    <tr>\n",
       "      <th>2</th>\n",
       "      <td>18 - 25</td>\n",
       "      <td>-1</td>\n",
       "      <td>20150000297988</td>\n",
       "      <td>80973</td>\n",
       "      <td>Offense Report</td>\n",
       "      <td>None</td>\n",
       "      <td>7463</td>\n",
       "      <td>1981</td>\n",
       "      <td>M</td>\n",
       "      <td>White</td>\n",
       "      <td>...</td>\n",
       "      <td>10:55:00.0000000</td>\n",
       "      <td>DIST - IP/JO - DV DIST - NO ASLT</td>\n",
       "      <td>--DV - DOMESTIC VIOLENCE (ARREST DISCRETIONARY)</td>\n",
       "      <td>911</td>\n",
       "      <td>SOUTH PCT 1ST W - SAM - PLATOON 2</td>\n",
       "      <td>N</td>\n",
       "      <td>N</td>\n",
       "      <td>South</td>\n",
       "      <td>S</td>\n",
       "      <td>S2</td>\n",
       "    </tr>\n",
       "    <tr>\n",
       "      <th>3</th>\n",
       "      <td>18 - 25</td>\n",
       "      <td>-1</td>\n",
       "      <td>20150000294181</td>\n",
       "      <td>77162</td>\n",
       "      <td>Offense Report</td>\n",
       "      <td>None</td>\n",
       "      <td>5288</td>\n",
       "      <td>1960</td>\n",
       "      <td>M</td>\n",
       "      <td>Not Specified</td>\n",
       "      <td>...</td>\n",
       "      <td>12:03:00.0000000</td>\n",
       "      <td>THREATS (INCLS IN-PERSON/BY PHONE/IN WRITING)</td>\n",
       "      <td>--DISTURBANCE - OTHER</td>\n",
       "      <td>911</td>\n",
       "      <td>NORTH PCT 1ST W - NORA (JOHN) - PLATOON 1</td>\n",
       "      <td>N</td>\n",
       "      <td>N</td>\n",
       "      <td>North</td>\n",
       "      <td>N</td>\n",
       "      <td>N2</td>\n",
       "    </tr>\n",
       "    <tr>\n",
       "      <th>4</th>\n",
       "      <td>26 - 35</td>\n",
       "      <td>-1</td>\n",
       "      <td>20170000004647</td>\n",
       "      <td>315588</td>\n",
       "      <td>Field Contact</td>\n",
       "      <td>None</td>\n",
       "      <td>5438</td>\n",
       "      <td>1958</td>\n",
       "      <td>M</td>\n",
       "      <td>White</td>\n",
       "      <td>...</td>\n",
       "      <td>13:03:00.0000000</td>\n",
       "      <td>-</td>\n",
       "      <td>-</td>\n",
       "      <td>-</td>\n",
       "      <td>SOUTHWEST PCT 2ND W - SOUTHWEST BEATS</td>\n",
       "      <td>N</td>\n",
       "      <td>N</td>\n",
       "      <td>-</td>\n",
       "      <td>-</td>\n",
       "      <td>-</td>\n",
       "    </tr>\n",
       "  </tbody>\n",
       "</table>\n",
       "<p>5 rows × 23 columns</p>\n",
       "</div>"
      ],
      "text/plain": [
       "  Subject Age Group  Subject ID     GO / SC Num  Terry Stop ID  \\\n",
       "0      56 and Above          -1  20160000325874         191650   \n",
       "1           26 - 35          -1  20180000368757         488017   \n",
       "2           18 - 25          -1  20150000297988          80973   \n",
       "3           18 - 25          -1  20150000294181          77162   \n",
       "4           26 - 35          -1  20170000004647         315588   \n",
       "\n",
       "  Stop Resolution Weapon Type Officer ID  Officer YOB Officer Gender  \\\n",
       "0  Offense Report        None       6672         1966              M   \n",
       "1  Offense Report        None       5350         1964              M   \n",
       "2  Offense Report        None       7463         1981              M   \n",
       "3  Offense Report        None       5288         1960              M   \n",
       "4   Field Contact        None       5438         1958              M   \n",
       "\n",
       "    Officer Race  ...     Reported Time  \\\n",
       "0          White  ...  17:26:00.0000000   \n",
       "1          White  ...  18:38:00.0000000   \n",
       "2          White  ...  10:55:00.0000000   \n",
       "3  Not Specified  ...  12:03:00.0000000   \n",
       "4          White  ...  13:03:00.0000000   \n",
       "\n",
       "                               Initial Call Type  \\\n",
       "0                            NUISANCE - MISCHIEF   \n",
       "1                                              -   \n",
       "2               DIST - IP/JO - DV DIST - NO ASLT   \n",
       "3  THREATS (INCLS IN-PERSON/BY PHONE/IN WRITING)   \n",
       "4                                              -   \n",
       "\n",
       "                                   Final Call Type Call Type  \\\n",
       "0                 --MISCHIEF OR NUISANCE - GENERAL    ONVIEW   \n",
       "1                                                -         -   \n",
       "2  --DV - DOMESTIC VIOLENCE (ARREST DISCRETIONARY)       911   \n",
       "3                            --DISTURBANCE - OTHER       911   \n",
       "4                                                -         -   \n",
       "\n",
       "                               Officer Squad Arrest Flag Frisk Flag  \\\n",
       "0                    SOUTHWEST PCT OPS - CPT           N          N   \n",
       "1                                PAWN DETAIL           N          N   \n",
       "2          SOUTH PCT 1ST W - SAM - PLATOON 2           N          N   \n",
       "3  NORTH PCT 1ST W - NORA (JOHN) - PLATOON 1           N          N   \n",
       "4      SOUTHWEST PCT 2ND W - SOUTHWEST BEATS           N          N   \n",
       "\n",
       "    Precinct Sector Beat  \n",
       "0  Southwest      F   F2  \n",
       "1      North      N   N2  \n",
       "2      South      S   S2  \n",
       "3      North      N   N2  \n",
       "4          -      -    -  \n",
       "\n",
       "[5 rows x 23 columns]"
      ]
     },
     "execution_count": 2,
     "metadata": {},
     "output_type": "execute_result"
    }
   ],
   "source": [
    "#load the data from the csv file and preview the first few rows\n",
    "df = pd.read_csv('Data/Terry_Stops_20231018.csv')\n",
    "df.head()"
   ]
  },
  {
   "cell_type": "code",
   "execution_count": 3,
   "metadata": {},
   "outputs": [
    {
     "data": {
      "text/plain": [
       "(57730, 23)"
      ]
     },
     "execution_count": 3,
     "metadata": {},
     "output_type": "execute_result"
    }
   ],
   "source": [
    "#check number of rows and columns\n",
    "df.shape"
   ]
  },
  {
   "cell_type": "code",
   "execution_count": 4,
   "metadata": {},
   "outputs": [
    {
     "data": {
      "text/plain": [
       "Index(['Subject Age Group', 'Subject ID', 'GO / SC Num', 'Terry Stop ID',\n",
       "       'Stop Resolution', 'Weapon Type', 'Officer ID', 'Officer YOB',\n",
       "       'Officer Gender', 'Officer Race', 'Subject Perceived Race',\n",
       "       'Subject Perceived Gender', 'Reported Date', 'Reported Time',\n",
       "       'Initial Call Type', 'Final Call Type', 'Call Type', 'Officer Squad',\n",
       "       'Arrest Flag', 'Frisk Flag', 'Precinct', 'Sector', 'Beat'],\n",
       "      dtype='object')"
      ]
     },
     "execution_count": 4,
     "metadata": {},
     "output_type": "execute_result"
    }
   ],
   "source": [
    "#view the names of the columns we're working with. \n",
    "df.columns"
   ]
  },
  {
   "cell_type": "code",
   "execution_count": 5,
   "metadata": {},
   "outputs": [
    {
     "name": "stdout",
     "output_type": "stream",
     "text": [
      "<class 'pandas.core.frame.DataFrame'>\n",
      "RangeIndex: 57730 entries, 0 to 57729\n",
      "Data columns (total 23 columns):\n",
      " #   Column                    Non-Null Count  Dtype \n",
      "---  ------                    --------------  ----- \n",
      " 0   Subject Age Group         57730 non-null  object\n",
      " 1   Subject ID                57730 non-null  int64 \n",
      " 2   GO / SC Num               57730 non-null  int64 \n",
      " 3   Terry Stop ID             57730 non-null  int64 \n",
      " 4   Stop Resolution           57730 non-null  object\n",
      " 5   Weapon Type               57730 non-null  object\n",
      " 6   Officer ID                57730 non-null  object\n",
      " 7   Officer YOB               57730 non-null  int64 \n",
      " 8   Officer Gender            57730 non-null  object\n",
      " 9   Officer Race              57730 non-null  object\n",
      " 10  Subject Perceived Race    57730 non-null  object\n",
      " 11  Subject Perceived Gender  57730 non-null  object\n",
      " 12  Reported Date             57730 non-null  object\n",
      " 13  Reported Time             57730 non-null  object\n",
      " 14  Initial Call Type         57730 non-null  object\n",
      " 15  Final Call Type           57730 non-null  object\n",
      " 16  Call Type                 57730 non-null  object\n",
      " 17  Officer Squad             34144 non-null  object\n",
      " 18  Arrest Flag               57730 non-null  object\n",
      " 19  Frisk Flag                57730 non-null  object\n",
      " 20  Precinct                  57730 non-null  object\n",
      " 21  Sector                    57730 non-null  object\n",
      " 22  Beat                      57730 non-null  object\n",
      "dtypes: int64(4), object(19)\n",
      "memory usage: 10.1+ MB\n"
     ]
    }
   ],
   "source": [
    "#view info about the datatypes, counts and null counts for each column\n",
    "df.info()"
   ]
  },
  {
   "cell_type": "code",
   "execution_count": 6,
   "metadata": {},
   "outputs": [],
   "source": [
    "#Choose usable columns relevant to the goals of this project\n",
    "usable_features = ['Subject Age Group','Weapon Type', 'Officer Gender','Officer Race', 'Subject Perceived Race',\n",
    "                    'Subject Perceived Gender', 'Arrest Flag', 'Reported Date', 'Reported Time' ,'Officer YOB']\n",
    "sub_df = df[usable_features]"
   ]
  },
  {
   "cell_type": "code",
   "execution_count": 7,
   "metadata": {},
   "outputs": [
    {
     "data": {
      "text/html": [
       "<div>\n",
       "<style scoped>\n",
       "    .dataframe tbody tr th:only-of-type {\n",
       "        vertical-align: middle;\n",
       "    }\n",
       "\n",
       "    .dataframe tbody tr th {\n",
       "        vertical-align: top;\n",
       "    }\n",
       "\n",
       "    .dataframe thead th {\n",
       "        text-align: right;\n",
       "    }\n",
       "</style>\n",
       "<table border=\"1\" class=\"dataframe\">\n",
       "  <thead>\n",
       "    <tr style=\"text-align: right;\">\n",
       "      <th></th>\n",
       "      <th>Subject Age Group</th>\n",
       "      <th>Weapon Type</th>\n",
       "      <th>Officer Gender</th>\n",
       "      <th>Officer Race</th>\n",
       "      <th>Subject Perceived Race</th>\n",
       "      <th>Subject Perceived Gender</th>\n",
       "      <th>Arrest Flag</th>\n",
       "      <th>Reported Date</th>\n",
       "      <th>Reported Time</th>\n",
       "      <th>Officer YOB</th>\n",
       "    </tr>\n",
       "  </thead>\n",
       "  <tbody>\n",
       "    <tr>\n",
       "      <th>0</th>\n",
       "      <td>56 and Above</td>\n",
       "      <td>None</td>\n",
       "      <td>M</td>\n",
       "      <td>White</td>\n",
       "      <td>White</td>\n",
       "      <td>Male</td>\n",
       "      <td>N</td>\n",
       "      <td>2016-09-08T00:00:00Z</td>\n",
       "      <td>17:26:00.0000000</td>\n",
       "      <td>1966</td>\n",
       "    </tr>\n",
       "    <tr>\n",
       "      <th>1</th>\n",
       "      <td>26 - 35</td>\n",
       "      <td>None</td>\n",
       "      <td>M</td>\n",
       "      <td>White</td>\n",
       "      <td>White</td>\n",
       "      <td>Female</td>\n",
       "      <td>N</td>\n",
       "      <td>2018-10-02T00:00:00Z</td>\n",
       "      <td>18:38:00.0000000</td>\n",
       "      <td>1964</td>\n",
       "    </tr>\n",
       "    <tr>\n",
       "      <th>2</th>\n",
       "      <td>18 - 25</td>\n",
       "      <td>None</td>\n",
       "      <td>M</td>\n",
       "      <td>White</td>\n",
       "      <td>Black or African American</td>\n",
       "      <td>Male</td>\n",
       "      <td>N</td>\n",
       "      <td>2015-08-26T00:00:00Z</td>\n",
       "      <td>10:55:00.0000000</td>\n",
       "      <td>1981</td>\n",
       "    </tr>\n",
       "    <tr>\n",
       "      <th>3</th>\n",
       "      <td>18 - 25</td>\n",
       "      <td>None</td>\n",
       "      <td>M</td>\n",
       "      <td>Not Specified</td>\n",
       "      <td>Black or African American</td>\n",
       "      <td>Male</td>\n",
       "      <td>N</td>\n",
       "      <td>2015-08-23T00:00:00Z</td>\n",
       "      <td>12:03:00.0000000</td>\n",
       "      <td>1960</td>\n",
       "    </tr>\n",
       "    <tr>\n",
       "      <th>4</th>\n",
       "      <td>26 - 35</td>\n",
       "      <td>None</td>\n",
       "      <td>M</td>\n",
       "      <td>White</td>\n",
       "      <td>White</td>\n",
       "      <td>Male</td>\n",
       "      <td>N</td>\n",
       "      <td>2017-10-06T00:00:00Z</td>\n",
       "      <td>13:03:00.0000000</td>\n",
       "      <td>1958</td>\n",
       "    </tr>\n",
       "  </tbody>\n",
       "</table>\n",
       "</div>"
      ],
      "text/plain": [
       "  Subject Age Group Weapon Type Officer Gender   Officer Race  \\\n",
       "0      56 and Above        None              M          White   \n",
       "1           26 - 35        None              M          White   \n",
       "2           18 - 25        None              M          White   \n",
       "3           18 - 25        None              M  Not Specified   \n",
       "4           26 - 35        None              M          White   \n",
       "\n",
       "      Subject Perceived Race Subject Perceived Gender Arrest Flag  \\\n",
       "0                      White                     Male           N   \n",
       "1                      White                   Female           N   \n",
       "2  Black or African American                     Male           N   \n",
       "3  Black or African American                     Male           N   \n",
       "4                      White                     Male           N   \n",
       "\n",
       "          Reported Date     Reported Time  Officer YOB  \n",
       "0  2016-09-08T00:00:00Z  17:26:00.0000000         1966  \n",
       "1  2018-10-02T00:00:00Z  18:38:00.0000000         1964  \n",
       "2  2015-08-26T00:00:00Z  10:55:00.0000000         1981  \n",
       "3  2015-08-23T00:00:00Z  12:03:00.0000000         1960  \n",
       "4  2017-10-06T00:00:00Z  13:03:00.0000000         1958  "
      ]
     },
     "execution_count": 7,
     "metadata": {},
     "output_type": "execute_result"
    }
   ],
   "source": [
    "#preview records in the new dataframe\n",
    "sub_df.head()"
   ]
  },
  {
   "cell_type": "code",
   "execution_count": 8,
   "metadata": {},
   "outputs": [
    {
     "data": {
      "text/plain": [
       "Index(['Subject Age Group', 'Weapon Type', 'Officer Gender', 'Officer Race',\n",
       "       'Subject Perceived Race', 'Subject Perceived Gender', 'Arrest Flag',\n",
       "       'Reported Date', 'Reported Time', 'Officer YOB'],\n",
       "      dtype='object')"
      ]
     },
     "execution_count": 8,
     "metadata": {},
     "output_type": "execute_result"
    }
   ],
   "source": [
    "sub_df.columns"
   ]
  },
  {
   "cell_type": "code",
   "execution_count": 9,
   "metadata": {},
   "outputs": [
    {
     "data": {
      "image/png": "[encoded data removed]",
      "text/plain": [
       "<Figure size 432x288 with 1 Axes>"
      ]
     },
     "metadata": {
      "needs_background": "light"
     },
     "output_type": "display_data"
    },
    {
     "data": {
      "image/png": "[encoded data removed]",
      "text/plain": [
       "<Figure size 432x288 with 1 Axes>"
      ]
     },
     "metadata": {
      "needs_background": "light"
     },
     "output_type": "display_data"
    },
    {
     "data": {
      "image/png": "[encoded data removed]",
      "text/plain": [
       "<Figure size 432x288 with 1 Axes>"
      ]
     },
     "metadata": {
      "needs_background": "light"
     },
     "output_type": "display_data"
    },
    {
     "data": {
      "image/png": "[encoded data removed]",
      "text/plain": [
       "<Figure size 432x288 with 1 Axes>"
      ]
     },
     "metadata": {
      "needs_background": "light"
     },
     "output_type": "display_data"
    },
    {
     "data": {
      "image/png": "[encoded data removed]",
      "text/plain": [
       "<Figure size 432x288 with 1 Axes>"
      ]
     },
     "metadata": {
      "needs_background": "light"
     },
     "output_type": "display_data"
    },
    {
     "data": {
      "image/png": "[encoded data removed]",
      "text/plain": [
       "<Figure size 432x288 with 1 Axes>"
      ]
     },
     "metadata": {
      "needs_background": "light"
     },
     "output_type": "display_data"
    },
    {
     "data": {
      "image/png": "[encoded data removed]",
      "text/plain": [
       "<Figure size 432x288 with 1 Axes>"
      ]
     },
     "metadata": {
      "needs_background": "light"
     },
     "output_type": "display_data"
    }
   ],
   "source": [
    "#For each of the selected columns (except day and dates), \n",
    "# visually inspect the distribution of the values contained \n",
    "\n",
    "for column in usable_features[:-3]:\n",
    "    val_count = df[column].value_counts( normalize=True)\n",
    "    val_count.plot.bar(title = f'{column} \\nLeading Value: {val_count.index[0]} with { str(round(val_count.values[0]*100, 2))} %')\n",
    "\n",
    "    \n",
    "    plt.show()\n",
    "\n",
    "    "
   ]
  },
  {
   "cell_type": "markdown",
   "metadata": {},
   "source": [
    "Below, View history of monthly Terry Stops recorded over time (2015 - 2023)"
   ]
  },
  {
   "cell_type": "code",
   "execution_count": 10,
   "metadata": {},
   "outputs": [
    {
     "name": "stderr",
     "output_type": "stream",
     "text": [
      "<ipython-input-10-1e55a6476751>:4: SettingWithCopyWarning: \n",
      "A value is trying to be set on a copy of a slice from a DataFrame.\n",
      "Try using .loc[row_indexer,col_indexer] = value instead\n",
      "\n",
      "See the caveats in the documentation: https://pandas.pydata.org/pandas-docs/stable/user_guide/indexing.html#returning-a-view-versus-a-copy\n",
      "  sub_df['Reported Date'] = sub_df['Reported Date'].apply ( lambda x: pd.to_datetime(x))\n",
      "<ipython-input-10-1e55a6476751>:7: SettingWithCopyWarning: \n",
      "A value is trying to be set on a copy of a slice from a DataFrame.\n",
      "Try using .loc[row_indexer,col_indexer] = value instead\n",
      "\n",
      "See the caveats in the documentation: https://pandas.pydata.org/pandas-docs/stable/user_guide/indexing.html#returning-a-view-versus-a-copy\n",
      "  sub_df['count'] = 1\n"
     ]
    },
    {
     "data": {
      "image/png": "[encoded data removed]",
      "text/plain": [
       "<Figure size 1080x720 with 1 Axes>"
      ]
     },
     "metadata": {
      "needs_background": "light"
     },
     "output_type": "display_data"
    },
    {
     "data": {
      "text/html": [
       "<div>\n",
       "<style scoped>\n",
       "    .dataframe tbody tr th:only-of-type {\n",
       "        vertical-align: middle;\n",
       "    }\n",
       "\n",
       "    .dataframe tbody tr th {\n",
       "        vertical-align: top;\n",
       "    }\n",
       "\n",
       "    .dataframe thead th {\n",
       "        text-align: right;\n",
       "    }\n",
       "</style>\n",
       "<table border=\"1\" class=\"dataframe\">\n",
       "  <thead>\n",
       "    <tr style=\"text-align: right;\">\n",
       "      <th></th>\n",
       "      <th>Subject Age Group</th>\n",
       "      <th>Weapon Type</th>\n",
       "      <th>Officer Gender</th>\n",
       "      <th>Officer Race</th>\n",
       "      <th>Subject Perceived Race</th>\n",
       "      <th>Subject Perceived Gender</th>\n",
       "      <th>Arrest Flag</th>\n",
       "      <th>Reported Date</th>\n",
       "      <th>Reported Time</th>\n",
       "      <th>Officer YOB</th>\n",
       "    </tr>\n",
       "  </thead>\n",
       "  <tbody>\n",
       "    <tr>\n",
       "      <th>0</th>\n",
       "      <td>56 and Above</td>\n",
       "      <td>None</td>\n",
       "      <td>M</td>\n",
       "      <td>White</td>\n",
       "      <td>White</td>\n",
       "      <td>Male</td>\n",
       "      <td>N</td>\n",
       "      <td>2016-09-08 00:00:00+00:00</td>\n",
       "      <td>17:26:00.0000000</td>\n",
       "      <td>1966</td>\n",
       "    </tr>\n",
       "    <tr>\n",
       "      <th>1</th>\n",
       "      <td>26 - 35</td>\n",
       "      <td>None</td>\n",
       "      <td>M</td>\n",
       "      <td>White</td>\n",
       "      <td>White</td>\n",
       "      <td>Female</td>\n",
       "      <td>N</td>\n",
       "      <td>2018-10-02 00:00:00+00:00</td>\n",
       "      <td>18:38:00.0000000</td>\n",
       "      <td>1964</td>\n",
       "    </tr>\n",
       "    <tr>\n",
       "      <th>2</th>\n",
       "      <td>18 - 25</td>\n",
       "      <td>None</td>\n",
       "      <td>M</td>\n",
       "      <td>White</td>\n",
       "      <td>Black or African American</td>\n",
       "      <td>Male</td>\n",
       "      <td>N</td>\n",
       "      <td>2015-08-26 00:00:00+00:00</td>\n",
       "      <td>10:55:00.0000000</td>\n",
       "      <td>1981</td>\n",
       "    </tr>\n",
       "    <tr>\n",
       "      <th>3</th>\n",
       "      <td>18 - 25</td>\n",
       "      <td>None</td>\n",
       "      <td>M</td>\n",
       "      <td>Not Specified</td>\n",
       "      <td>Black or African American</td>\n",
       "      <td>Male</td>\n",
       "      <td>N</td>\n",
       "      <td>2015-08-23 00:00:00+00:00</td>\n",
       "      <td>12:03:00.0000000</td>\n",
       "      <td>1960</td>\n",
       "    </tr>\n",
       "    <tr>\n",
       "      <th>4</th>\n",
       "      <td>26 - 35</td>\n",
       "      <td>None</td>\n",
       "      <td>M</td>\n",
       "      <td>White</td>\n",
       "      <td>White</td>\n",
       "      <td>Male</td>\n",
       "      <td>N</td>\n",
       "      <td>2017-10-06 00:00:00+00:00</td>\n",
       "      <td>13:03:00.0000000</td>\n",
       "      <td>1958</td>\n",
       "    </tr>\n",
       "    <tr>\n",
       "      <th>...</th>\n",
       "      <td>...</td>\n",
       "      <td>...</td>\n",
       "      <td>...</td>\n",
       "      <td>...</td>\n",
       "      <td>...</td>\n",
       "      <td>...</td>\n",
       "      <td>...</td>\n",
       "      <td>...</td>\n",
       "      <td>...</td>\n",
       "      <td>...</td>\n",
       "    </tr>\n",
       "    <tr>\n",
       "      <th>57725</th>\n",
       "      <td>36 - 45</td>\n",
       "      <td>None</td>\n",
       "      <td>M</td>\n",
       "      <td>Two or More Races</td>\n",
       "      <td>American Indian or Alaska Native</td>\n",
       "      <td>Male</td>\n",
       "      <td>N</td>\n",
       "      <td>2016-07-29 00:00:00+00:00</td>\n",
       "      <td>18:48:00.0000000</td>\n",
       "      <td>1988</td>\n",
       "    </tr>\n",
       "    <tr>\n",
       "      <th>57726</th>\n",
       "      <td>36 - 45</td>\n",
       "      <td>None</td>\n",
       "      <td>M</td>\n",
       "      <td>Not Specified</td>\n",
       "      <td>Black or African American</td>\n",
       "      <td>Male</td>\n",
       "      <td>N</td>\n",
       "      <td>2017-09-23 00:00:00+00:00</td>\n",
       "      <td>09:08:00.0000000</td>\n",
       "      <td>1986</td>\n",
       "    </tr>\n",
       "    <tr>\n",
       "      <th>57727</th>\n",
       "      <td>26 - 35</td>\n",
       "      <td>Handgun</td>\n",
       "      <td>M</td>\n",
       "      <td>White</td>\n",
       "      <td>Black or African American</td>\n",
       "      <td>Male</td>\n",
       "      <td>N</td>\n",
       "      <td>2018-02-28 00:00:00+00:00</td>\n",
       "      <td>11:39:00.0000000</td>\n",
       "      <td>1983</td>\n",
       "    </tr>\n",
       "    <tr>\n",
       "      <th>57728</th>\n",
       "      <td>46 - 55</td>\n",
       "      <td>Handgun</td>\n",
       "      <td>M</td>\n",
       "      <td>White</td>\n",
       "      <td>White</td>\n",
       "      <td>Male</td>\n",
       "      <td>N</td>\n",
       "      <td>2018-08-12 00:00:00+00:00</td>\n",
       "      <td>18:13:00.0000000</td>\n",
       "      <td>1993</td>\n",
       "    </tr>\n",
       "    <tr>\n",
       "      <th>57729</th>\n",
       "      <td>36 - 45</td>\n",
       "      <td>-</td>\n",
       "      <td>M</td>\n",
       "      <td>White</td>\n",
       "      <td>Black or African American</td>\n",
       "      <td>Male</td>\n",
       "      <td>N</td>\n",
       "      <td>2023-08-29 00:00:00+00:00</td>\n",
       "      <td>20:03:37.0000000</td>\n",
       "      <td>1984</td>\n",
       "    </tr>\n",
       "  </tbody>\n",
       "</table>\n",
       "<p>57730 rows × 10 columns</p>\n",
       "</div>"
      ],
      "text/plain": [
       "      Subject Age Group Weapon Type Officer Gender       Officer Race  \\\n",
       "0          56 and Above        None              M              White   \n",
       "1               26 - 35        None              M              White   \n",
       "2               18 - 25        None              M              White   \n",
       "3               18 - 25        None              M      Not Specified   \n",
       "4               26 - 35        None              M              White   \n",
       "...                 ...         ...            ...                ...   \n",
       "57725           36 - 45        None              M  Two or More Races   \n",
       "57726           36 - 45        None              M      Not Specified   \n",
       "57727           26 - 35     Handgun              M              White   \n",
       "57728           46 - 55     Handgun              M              White   \n",
       "57729           36 - 45           -              M              White   \n",
       "\n",
       "                 Subject Perceived Race Subject Perceived Gender Arrest Flag  \\\n",
       "0                                 White                     Male           N   \n",
       "1                                 White                   Female           N   \n",
       "2             Black or African American                     Male           N   \n",
       "3             Black or African American                     Male           N   \n",
       "4                                 White                     Male           N   \n",
       "...                                 ...                      ...         ...   \n",
       "57725  American Indian or Alaska Native                     Male           N   \n",
       "57726         Black or African American                     Male           N   \n",
       "57727         Black or African American                     Male           N   \n",
       "57728                             White                     Male           N   \n",
       "57729         Black or African American                     Male           N   \n",
       "\n",
       "                  Reported Date     Reported Time  Officer YOB  \n",
       "0     2016-09-08 00:00:00+00:00  17:26:00.0000000         1966  \n",
       "1     2018-10-02 00:00:00+00:00  18:38:00.0000000         1964  \n",
       "2     2015-08-26 00:00:00+00:00  10:55:00.0000000         1981  \n",
       "3     2015-08-23 00:00:00+00:00  12:03:00.0000000         1960  \n",
       "4     2017-10-06 00:00:00+00:00  13:03:00.0000000         1958  \n",
       "...                         ...               ...          ...  \n",
       "57725 2016-07-29 00:00:00+00:00  18:48:00.0000000         1988  \n",
       "57726 2017-09-23 00:00:00+00:00  09:08:00.0000000         1986  \n",
       "57727 2018-02-28 00:00:00+00:00  11:39:00.0000000         1983  \n",
       "57728 2018-08-12 00:00:00+00:00  18:13:00.0000000         1993  \n",
       "57729 2023-08-29 00:00:00+00:00  20:03:37.0000000         1984  \n",
       "\n",
       "[57730 rows x 10 columns]"
      ]
     },
     "execution_count": 10,
     "metadata": {},
     "output_type": "execute_result"
    }
   ],
   "source": [
    "#plot of terry stops over time\n",
    "\n",
    "#convert values to to datetime \n",
    "sub_df['Reported Date'] = sub_df['Reported Date'].apply ( lambda x: pd.to_datetime(x))\n",
    "\n",
    "#resample to aggregate values per day\n",
    "sub_df['count'] = 1 \n",
    "daily_counts  = sub_df.resample('M', on='Reported Date')['count'].sum()\n",
    "\n",
    "#plot\n",
    "plt.figure(figsize=(15,10))\n",
    "plt.plot(daily_counts.index, daily_counts.values, marker='o', linestyle='-')\n",
    "\n",
    "plt.xlabel('Time')\n",
    "plt.ylabel('Number of Recorded Terry Stops')\n",
    "plt.title('Monthly Number of Recorded Terry Stops over time')\n",
    "plt.grid(True)\n",
    "plt.show();\n",
    "\n",
    "sub_df.drop('count', axis=1)"
   ]
  },
  {
   "cell_type": "markdown",
   "metadata": {},
   "source": [
    "From the plots above, we can make the following obeservations:\n",
    "* Most Terry stops (90%) ended up with no arrests. **This may suggest class imbalance**\n",
    "* Male subjects were stopped most, at 79%\n",
    "* People with 'White' as their perceived race were stopped most, at 49%\n",
    "* Officers with 'White' as race on record made the most stops, at 49%\n",
    "* The most common subject age group was 26-35 years (33%)"
   ]
  },
  {
   "cell_type": "markdown",
   "metadata": {},
   "source": [
    "### Data Preparation"
   ]
  },
  {
   "cell_type": "code",
   "execution_count": 11,
   "metadata": {},
   "outputs": [
    {
     "data": {
      "text/plain": [
       "Subject Age Group           0\n",
       "Weapon Type                 0\n",
       "Officer Gender              0\n",
       "Officer Race                0\n",
       "Subject Perceived Race      0\n",
       "Subject Perceived Gender    0\n",
       "Arrest Flag                 0\n",
       "Reported Date               0\n",
       "Reported Time               0\n",
       "Officer YOB                 0\n",
       "count                       0\n",
       "dtype: int64"
      ]
     },
     "execution_count": 11,
     "metadata": {},
     "output_type": "execute_result"
    }
   ],
   "source": [
    "#Check for null values in sub_df\n",
    "sub_df.isna().sum()"
   ]
  },
  {
   "cell_type": "code",
   "execution_count": 12,
   "metadata": {},
   "outputs": [
    {
     "data": {
      "text/html": [
       "<div>\n",
       "<style scoped>\n",
       "    .dataframe tbody tr th:only-of-type {\n",
       "        vertical-align: middle;\n",
       "    }\n",
       "\n",
       "    .dataframe tbody tr th {\n",
       "        vertical-align: top;\n",
       "    }\n",
       "\n",
       "    .dataframe thead th {\n",
       "        text-align: right;\n",
       "    }\n",
       "</style>\n",
       "<table border=\"1\" class=\"dataframe\">\n",
       "  <thead>\n",
       "    <tr style=\"text-align: right;\">\n",
       "      <th></th>\n",
       "      <th>Subject Age Group</th>\n",
       "      <th>Weapon Type</th>\n",
       "      <th>Officer Gender</th>\n",
       "      <th>Officer Race</th>\n",
       "      <th>Subject Perceived Race</th>\n",
       "      <th>Subject Perceived Gender</th>\n",
       "      <th>Arrest Flag</th>\n",
       "      <th>Reported Date</th>\n",
       "      <th>Reported Time</th>\n",
       "      <th>Officer YOB</th>\n",
       "      <th>count</th>\n",
       "    </tr>\n",
       "  </thead>\n",
       "  <tbody>\n",
       "    <tr>\n",
       "      <th>0</th>\n",
       "      <td>56 and Above</td>\n",
       "      <td>None</td>\n",
       "      <td>M</td>\n",
       "      <td>White</td>\n",
       "      <td>White</td>\n",
       "      <td>Male</td>\n",
       "      <td>N</td>\n",
       "      <td>2016-09-08 00:00:00+00:00</td>\n",
       "      <td>17:26:00.0000000</td>\n",
       "      <td>1966</td>\n",
       "      <td>1</td>\n",
       "    </tr>\n",
       "    <tr>\n",
       "      <th>1</th>\n",
       "      <td>26 - 35</td>\n",
       "      <td>None</td>\n",
       "      <td>M</td>\n",
       "      <td>White</td>\n",
       "      <td>White</td>\n",
       "      <td>Female</td>\n",
       "      <td>N</td>\n",
       "      <td>2018-10-02 00:00:00+00:00</td>\n",
       "      <td>18:38:00.0000000</td>\n",
       "      <td>1964</td>\n",
       "      <td>1</td>\n",
       "    </tr>\n",
       "    <tr>\n",
       "      <th>2</th>\n",
       "      <td>18 - 25</td>\n",
       "      <td>None</td>\n",
       "      <td>M</td>\n",
       "      <td>White</td>\n",
       "      <td>Black or African American</td>\n",
       "      <td>Male</td>\n",
       "      <td>N</td>\n",
       "      <td>2015-08-26 00:00:00+00:00</td>\n",
       "      <td>10:55:00.0000000</td>\n",
       "      <td>1981</td>\n",
       "      <td>1</td>\n",
       "    </tr>\n",
       "    <tr>\n",
       "      <th>3</th>\n",
       "      <td>18 - 25</td>\n",
       "      <td>None</td>\n",
       "      <td>M</td>\n",
       "      <td>Not Specified</td>\n",
       "      <td>Black or African American</td>\n",
       "      <td>Male</td>\n",
       "      <td>N</td>\n",
       "      <td>2015-08-23 00:00:00+00:00</td>\n",
       "      <td>12:03:00.0000000</td>\n",
       "      <td>1960</td>\n",
       "      <td>1</td>\n",
       "    </tr>\n",
       "    <tr>\n",
       "      <th>4</th>\n",
       "      <td>26 - 35</td>\n",
       "      <td>None</td>\n",
       "      <td>M</td>\n",
       "      <td>White</td>\n",
       "      <td>White</td>\n",
       "      <td>Male</td>\n",
       "      <td>N</td>\n",
       "      <td>2017-10-06 00:00:00+00:00</td>\n",
       "      <td>13:03:00.0000000</td>\n",
       "      <td>1958</td>\n",
       "      <td>1</td>\n",
       "    </tr>\n",
       "  </tbody>\n",
       "</table>\n",
       "</div>"
      ],
      "text/plain": [
       "  Subject Age Group Weapon Type Officer Gender   Officer Race  \\\n",
       "0      56 and Above        None              M          White   \n",
       "1           26 - 35        None              M          White   \n",
       "2           18 - 25        None              M          White   \n",
       "3           18 - 25        None              M  Not Specified   \n",
       "4           26 - 35        None              M          White   \n",
       "\n",
       "      Subject Perceived Race Subject Perceived Gender Arrest Flag  \\\n",
       "0                      White                     Male           N   \n",
       "1                      White                   Female           N   \n",
       "2  Black or African American                     Male           N   \n",
       "3  Black or African American                     Male           N   \n",
       "4                      White                     Male           N   \n",
       "\n",
       "              Reported Date     Reported Time  Officer YOB  count  \n",
       "0 2016-09-08 00:00:00+00:00  17:26:00.0000000         1966      1  \n",
       "1 2018-10-02 00:00:00+00:00  18:38:00.0000000         1964      1  \n",
       "2 2015-08-26 00:00:00+00:00  10:55:00.0000000         1981      1  \n",
       "3 2015-08-23 00:00:00+00:00  12:03:00.0000000         1960      1  \n",
       "4 2017-10-06 00:00:00+00:00  13:03:00.0000000         1958      1  "
      ]
     },
     "execution_count": 12,
     "metadata": {},
     "output_type": "execute_result"
    }
   ],
   "source": [
    "#preview data as we have it\n",
    "sub_df.head()"
   ]
  },
  {
   "cell_type": "markdown",
   "metadata": {},
   "source": [
    "#### Re-Group Weapon Type column"
   ]
  },
  {
   "cell_type": "code",
   "execution_count": 13,
   "metadata": {},
   "outputs": [
    {
     "data": {
      "text/plain": [
       "None                                    0.564091\n",
       "-                                       0.373307\n",
       "Lethal Cutting Instrument               0.025671\n",
       "Knife/Cutting/Stabbing Instrument       0.020197\n",
       "Handgun                                 0.006444\n",
       "Blunt Object/Striking Implement         0.002616\n",
       "Firearm Other                           0.001732\n",
       "Firearm                                 0.001611\n",
       "Other Firearm                           0.001057\n",
       "Mace/Pepper Spray                       0.000918\n",
       "Club, Blackjack, Brass Knuckles         0.000849\n",
       "None/Not Applicable                     0.000277\n",
       "Taser/Stun Gun                          0.000260\n",
       "Firearm (unk type)                      0.000260\n",
       "Fire/Incendiary Device                  0.000208\n",
       "Rifle                                   0.000173\n",
       "Club                                    0.000156\n",
       "Shotgun                                 0.000069\n",
       "Personal Weapons (hands, feet, etc.)    0.000035\n",
       "Automatic Handgun                       0.000035\n",
       "Blackjack                               0.000017\n",
       "Brass Knuckles                          0.000017\n",
       "Name: Weapon Type, dtype: float64"
      ]
     },
     "execution_count": 13,
     "metadata": {},
     "output_type": "execute_result"
    }
   ],
   "source": [
    "#Have a look again at the Weapon Type Column\n",
    "sub_df['Weapon Type'].value_counts( normalize=True)"
   ]
  },
  {
   "cell_type": "markdown",
   "metadata": {},
   "source": [
    "From the info above, the Weapon Type column is heavily skewed and to reduce the number of resultant columns when we use one hot encoding, we can group weapons that were much less common as 'Others' as below:"
   ]
  },
  {
   "cell_type": "code",
   "execution_count": 14,
   "metadata": {},
   "outputs": [
    {
     "name": "stderr",
     "output_type": "stream",
     "text": [
      "<ipython-input-14-03d99ec70b4f>:2: SettingWithCopyWarning: \n",
      "A value is trying to be set on a copy of a slice from a DataFrame.\n",
      "Try using .loc[row_indexer,col_indexer] = value instead\n",
      "\n",
      "See the caveats in the documentation: https://pandas.pydata.org/pandas-docs/stable/user_guide/indexing.html#returning-a-view-versus-a-copy\n",
      "  sub_df['Weapon Type'] = sub_df['Weapon Type'].apply( lambda x: np.where(x in common_weapons,\n"
     ]
    },
    {
     "data": {
      "text/plain": [
       "None                                 0.564091\n",
       "-                                    0.373307\n",
       "Lethal Cutting Instrument            0.025671\n",
       "Knife/Cutting/Stabbing Instrument    0.020197\n",
       "Others                               0.016733\n",
       "Name: Weapon Type, dtype: float64"
      ]
     },
     "execution_count": 14,
     "metadata": {},
     "output_type": "execute_result"
    }
   ],
   "source": [
    "common_weapons = ['None', '-', 'Lethal Cutting Instrument', 'Knife/Cutting/Stabbing Instrument' ]\n",
    "sub_df['Weapon Type'] = sub_df['Weapon Type'].apply( lambda x: np.where(x in common_weapons,\n",
    "                                 x, 'Others'))\n",
    "\n",
    "sub_df['Weapon Type'].value_counts( normalize=True)"
   ]
  },
  {
   "cell_type": "markdown",
   "metadata": {},
   "source": [
    "It is unclear from the dataset what '-' as a weapon type means and while I'd like to group it with 'None', comparing the resulting numner of arrests from None and '-' suggest they have different meanings. See below:"
   ]
  },
  {
   "cell_type": "code",
   "execution_count": 15,
   "metadata": {},
   "outputs": [
    {
     "name": "stdout",
     "output_type": "stream",
     "text": [
      "N    1.0\n",
      "Name: Arrest Flag, dtype: float64\n",
      "N    0.757877\n",
      "Y    0.242123\n",
      "Name: Arrest Flag, dtype: float64\n"
     ]
    }
   ],
   "source": [
    "print(sub_df[sub_df['Weapon Type'] == 'None']['Arrest Flag'].value_counts(normalize= True))\n",
    "print(sub_df[sub_df['Weapon Type'] == '-']['Arrest Flag'].value_counts(normalize= True))"
   ]
  },
  {
   "cell_type": "markdown",
   "metadata": {},
   "source": [
    "About a quarter of weapon type '-' led to arrests (all other factors held constant), so we'll keep the value."
   ]
  },
  {
   "cell_type": "markdown",
   "metadata": {},
   "source": [
    "#### Convert Reported Date column to weekday or weekend "
   ]
  },
  {
   "cell_type": "code",
   "execution_count": 16,
   "metadata": {},
   "outputs": [
    {
     "name": "stderr",
     "output_type": "stream",
     "text": [
      "<ipython-input-16-c3071561bdca>:3: SettingWithCopyWarning: \n",
      "A value is trying to be set on a copy of a slice from a DataFrame.\n",
      "Try using .loc[row_indexer,col_indexer] = value instead\n",
      "\n",
      "See the caveats in the documentation: https://pandas.pydata.org/pandas-docs/stable/user_guide/indexing.html#returning-a-view-versus-a-copy\n",
      "  sub_df['Reported Date'] = sub_df['Reported Date'].apply( lambda x: np.where(x.weekday() > 5, 'Weekend', 'Weekday'))\n"
     ]
    },
    {
     "data": {
      "text/plain": [
       "0    Weekday\n",
       "1    Weekday\n",
       "2    Weekday\n",
       "3    Weekend\n",
       "4    Weekday\n",
       "Name: Reported Date, dtype: object"
      ]
     },
     "execution_count": 16,
     "metadata": {},
     "output_type": "execute_result"
    }
   ],
   "source": [
    "#Convert reported date into weekday or weekend \n",
    "\n",
    "sub_df['Reported Date'] = sub_df['Reported Date'].apply( lambda x: np.where(x.weekday() > 5, 'Weekend', 'Weekday'))\n",
    "sub_df['Reported Date'].head()"
   ]
  },
  {
   "cell_type": "markdown",
   "metadata": {},
   "source": [
    "#### Convert Reported Time column into part of day\n"
   ]
  },
  {
   "cell_type": "code",
   "execution_count": 17,
   "metadata": {},
   "outputs": [],
   "source": [
    "def get_part_of_day(col): \n",
    "    hr = pd.to_datetime(col).hour\n",
    "    return (\n",
    "        \"morning\" if 5 <= hr <= 11\n",
    "        else\n",
    "        \"afternoon\" if 12 <= hr <= 17\n",
    "        else\n",
    "        \"evening\" if 18 <= hr <= 22\n",
    "        else\n",
    "        \"night\"\n",
    "    )"
   ]
  },
  {
   "cell_type": "code",
   "execution_count": 18,
   "metadata": {},
   "outputs": [
    {
     "name": "stderr",
     "output_type": "stream",
     "text": [
      "<ipython-input-18-710a1919e305>:2: SettingWithCopyWarning: \n",
      "A value is trying to be set on a copy of a slice from a DataFrame.\n",
      "Try using .loc[row_indexer,col_indexer] = value instead\n",
      "\n",
      "See the caveats in the documentation: https://pandas.pydata.org/pandas-docs/stable/user_guide/indexing.html#returning-a-view-versus-a-copy\n",
      "  sub_df['Reported Time'] = sub_df['Reported Time'].apply(lambda x: get_part_of_day(x))\n"
     ]
    },
    {
     "data": {
      "text/plain": [
       "0    afternoon\n",
       "1      evening\n",
       "2      morning\n",
       "3    afternoon\n",
       "4    afternoon\n",
       "Name: Reported Time, dtype: object"
      ]
     },
     "execution_count": 18,
     "metadata": {},
     "output_type": "execute_result"
    }
   ],
   "source": [
    "#convert reported time into period of the day\n",
    "sub_df['Reported Time'] = sub_df['Reported Time'].apply(lambda x: get_part_of_day(x))\n",
    "sub_df['Reported Time'].head()"
   ]
  },
  {
   "cell_type": "markdown",
   "metadata": {},
   "source": [
    "#### Convert Arrest Flag Column into 0 or 1"
   ]
  },
  {
   "cell_type": "code",
   "execution_count": 19,
   "metadata": {},
   "outputs": [
    {
     "name": "stderr",
     "output_type": "stream",
     "text": [
      "<ipython-input-19-8aef256dbebe>:1: SettingWithCopyWarning: \n",
      "A value is trying to be set on a copy of a slice from a DataFrame.\n",
      "Try using .loc[row_indexer,col_indexer] = value instead\n",
      "\n",
      "See the caveats in the documentation: https://pandas.pydata.org/pandas-docs/stable/user_guide/indexing.html#returning-a-view-versus-a-copy\n",
      "  sub_df['Arrest Flag'] = (sub_df['Arrest Flag'] == 'Y').astype(int)\n"
     ]
    }
   ],
   "source": [
    "sub_df['Arrest Flag'] = (sub_df['Arrest Flag'] == 'Y').astype(int)"
   ]
  },
  {
   "cell_type": "code",
   "execution_count": 20,
   "metadata": {},
   "outputs": [
    {
     "data": {
      "text/plain": [
       "Text(0.5, 1.0, 'Distribution of target variable')"
      ]
     },
     "execution_count": 20,
     "metadata": {},
     "output_type": "execute_result"
    },
    {
     "data": {
      "image/png": "[encoded data removed]",
      "text/plain": [
       "<Figure size 432x288 with 1 Axes>"
      ]
     },
     "metadata": {
      "needs_background": "light"
     },
     "output_type": "display_data"
    }
   ],
   "source": [
    "sub_df['Arrest Flag'].value_counts().plot.bar()\n",
    "plt.title(\"Distribution of target variable\")"
   ]
  },
  {
   "cell_type": "code",
   "execution_count": 21,
   "metadata": {},
   "outputs": [],
   "source": [
    "#define categorical columns\n",
    "cat_columns = ['Subject Age Group',\n",
    " 'Weapon Type',\n",
    " 'Officer Gender',\n",
    " 'Officer Race',\n",
    " 'Subject Perceived Race',\n",
    " 'Subject Perceived Gender',\n",
    " 'Reported Date',\n",
    " 'Reported Time']"
   ]
  },
  {
   "cell_type": "code",
   "execution_count": 22,
   "metadata": {},
   "outputs": [
    {
     "data": {
      "text/html": [
       "<div>\n",
       "<style scoped>\n",
       "    .dataframe tbody tr th:only-of-type {\n",
       "        vertical-align: middle;\n",
       "    }\n",
       "\n",
       "    .dataframe tbody tr th {\n",
       "        vertical-align: top;\n",
       "    }\n",
       "\n",
       "    .dataframe thead th {\n",
       "        text-align: right;\n",
       "    }\n",
       "</style>\n",
       "<table border=\"1\" class=\"dataframe\">\n",
       "  <thead>\n",
       "    <tr style=\"text-align: right;\">\n",
       "      <th></th>\n",
       "      <th>Subject Age Group</th>\n",
       "      <th>Weapon Type</th>\n",
       "      <th>Officer Gender</th>\n",
       "      <th>Officer Race</th>\n",
       "      <th>Subject Perceived Race</th>\n",
       "      <th>Subject Perceived Gender</th>\n",
       "      <th>Arrest Flag</th>\n",
       "      <th>Reported Date</th>\n",
       "      <th>Reported Time</th>\n",
       "      <th>Officer YOB</th>\n",
       "      <th>count</th>\n",
       "    </tr>\n",
       "  </thead>\n",
       "  <tbody>\n",
       "    <tr>\n",
       "      <th>0</th>\n",
       "      <td>56 and Above</td>\n",
       "      <td>None</td>\n",
       "      <td>M</td>\n",
       "      <td>White</td>\n",
       "      <td>White</td>\n",
       "      <td>Male</td>\n",
       "      <td>0</td>\n",
       "      <td>Weekday</td>\n",
       "      <td>afternoon</td>\n",
       "      <td>1966</td>\n",
       "      <td>1</td>\n",
       "    </tr>\n",
       "    <tr>\n",
       "      <th>1</th>\n",
       "      <td>26 - 35</td>\n",
       "      <td>None</td>\n",
       "      <td>M</td>\n",
       "      <td>White</td>\n",
       "      <td>White</td>\n",
       "      <td>Female</td>\n",
       "      <td>0</td>\n",
       "      <td>Weekday</td>\n",
       "      <td>evening</td>\n",
       "      <td>1964</td>\n",
       "      <td>1</td>\n",
       "    </tr>\n",
       "    <tr>\n",
       "      <th>2</th>\n",
       "      <td>18 - 25</td>\n",
       "      <td>None</td>\n",
       "      <td>M</td>\n",
       "      <td>White</td>\n",
       "      <td>Black or African American</td>\n",
       "      <td>Male</td>\n",
       "      <td>0</td>\n",
       "      <td>Weekday</td>\n",
       "      <td>morning</td>\n",
       "      <td>1981</td>\n",
       "      <td>1</td>\n",
       "    </tr>\n",
       "    <tr>\n",
       "      <th>3</th>\n",
       "      <td>18 - 25</td>\n",
       "      <td>None</td>\n",
       "      <td>M</td>\n",
       "      <td>Not Specified</td>\n",
       "      <td>Black or African American</td>\n",
       "      <td>Male</td>\n",
       "      <td>0</td>\n",
       "      <td>Weekend</td>\n",
       "      <td>afternoon</td>\n",
       "      <td>1960</td>\n",
       "      <td>1</td>\n",
       "    </tr>\n",
       "    <tr>\n",
       "      <th>4</th>\n",
       "      <td>26 - 35</td>\n",
       "      <td>None</td>\n",
       "      <td>M</td>\n",
       "      <td>White</td>\n",
       "      <td>White</td>\n",
       "      <td>Male</td>\n",
       "      <td>0</td>\n",
       "      <td>Weekday</td>\n",
       "      <td>afternoon</td>\n",
       "      <td>1958</td>\n",
       "      <td>1</td>\n",
       "    </tr>\n",
       "    <tr>\n",
       "      <th>...</th>\n",
       "      <td>...</td>\n",
       "      <td>...</td>\n",
       "      <td>...</td>\n",
       "      <td>...</td>\n",
       "      <td>...</td>\n",
       "      <td>...</td>\n",
       "      <td>...</td>\n",
       "      <td>...</td>\n",
       "      <td>...</td>\n",
       "      <td>...</td>\n",
       "      <td>...</td>\n",
       "    </tr>\n",
       "    <tr>\n",
       "      <th>57725</th>\n",
       "      <td>36 - 45</td>\n",
       "      <td>None</td>\n",
       "      <td>M</td>\n",
       "      <td>Two or More Races</td>\n",
       "      <td>American Indian or Alaska Native</td>\n",
       "      <td>Male</td>\n",
       "      <td>0</td>\n",
       "      <td>Weekday</td>\n",
       "      <td>evening</td>\n",
       "      <td>1988</td>\n",
       "      <td>1</td>\n",
       "    </tr>\n",
       "    <tr>\n",
       "      <th>57726</th>\n",
       "      <td>36 - 45</td>\n",
       "      <td>None</td>\n",
       "      <td>M</td>\n",
       "      <td>Not Specified</td>\n",
       "      <td>Black or African American</td>\n",
       "      <td>Male</td>\n",
       "      <td>0</td>\n",
       "      <td>Weekday</td>\n",
       "      <td>morning</td>\n",
       "      <td>1986</td>\n",
       "      <td>1</td>\n",
       "    </tr>\n",
       "    <tr>\n",
       "      <th>57727</th>\n",
       "      <td>26 - 35</td>\n",
       "      <td>Others</td>\n",
       "      <td>M</td>\n",
       "      <td>White</td>\n",
       "      <td>Black or African American</td>\n",
       "      <td>Male</td>\n",
       "      <td>0</td>\n",
       "      <td>Weekday</td>\n",
       "      <td>morning</td>\n",
       "      <td>1983</td>\n",
       "      <td>1</td>\n",
       "    </tr>\n",
       "    <tr>\n",
       "      <th>57728</th>\n",
       "      <td>46 - 55</td>\n",
       "      <td>Others</td>\n",
       "      <td>M</td>\n",
       "      <td>White</td>\n",
       "      <td>White</td>\n",
       "      <td>Male</td>\n",
       "      <td>0</td>\n",
       "      <td>Weekend</td>\n",
       "      <td>evening</td>\n",
       "      <td>1993</td>\n",
       "      <td>1</td>\n",
       "    </tr>\n",
       "    <tr>\n",
       "      <th>57729</th>\n",
       "      <td>36 - 45</td>\n",
       "      <td>-</td>\n",
       "      <td>M</td>\n",
       "      <td>White</td>\n",
       "      <td>Black or African American</td>\n",
       "      <td>Male</td>\n",
       "      <td>0</td>\n",
       "      <td>Weekday</td>\n",
       "      <td>evening</td>\n",
       "      <td>1984</td>\n",
       "      <td>1</td>\n",
       "    </tr>\n",
       "  </tbody>\n",
       "</table>\n",
       "<p>57730 rows × 11 columns</p>\n",
       "</div>"
      ],
      "text/plain": [
       "      Subject Age Group Weapon Type Officer Gender       Officer Race  \\\n",
       "0          56 and Above        None              M              White   \n",
       "1               26 - 35        None              M              White   \n",
       "2               18 - 25        None              M              White   \n",
       "3               18 - 25        None              M      Not Specified   \n",
       "4               26 - 35        None              M              White   \n",
       "...                 ...         ...            ...                ...   \n",
       "57725           36 - 45        None              M  Two or More Races   \n",
       "57726           36 - 45        None              M      Not Specified   \n",
       "57727           26 - 35      Others              M              White   \n",
       "57728           46 - 55      Others              M              White   \n",
       "57729           36 - 45           -              M              White   \n",
       "\n",
       "                 Subject Perceived Race Subject Perceived Gender  Arrest Flag  \\\n",
       "0                                 White                     Male            0   \n",
       "1                                 White                   Female            0   \n",
       "2             Black or African American                     Male            0   \n",
       "3             Black or African American                     Male            0   \n",
       "4                                 White                     Male            0   \n",
       "...                                 ...                      ...          ...   \n",
       "57725  American Indian or Alaska Native                     Male            0   \n",
       "57726         Black or African American                     Male            0   \n",
       "57727         Black or African American                     Male            0   \n",
       "57728                             White                     Male            0   \n",
       "57729         Black or African American                     Male            0   \n",
       "\n",
       "      Reported Date Reported Time  Officer YOB  count  \n",
       "0           Weekday     afternoon         1966      1  \n",
       "1           Weekday       evening         1964      1  \n",
       "2           Weekday       morning         1981      1  \n",
       "3           Weekend     afternoon         1960      1  \n",
       "4           Weekday     afternoon         1958      1  \n",
       "...             ...           ...          ...    ...  \n",
       "57725       Weekday       evening         1988      1  \n",
       "57726       Weekday       morning         1986      1  \n",
       "57727       Weekday       morning         1983      1  \n",
       "57728       Weekend       evening         1993      1  \n",
       "57729       Weekday       evening         1984      1  \n",
       "\n",
       "[57730 rows x 11 columns]"
      ]
     },
     "execution_count": 22,
     "metadata": {},
     "output_type": "execute_result"
    }
   ],
   "source": [
    "sub_df"
   ]
  },
  {
   "cell_type": "markdown",
   "metadata": {},
   "source": [
    "## Feature Engineering\n",
    "This section takes the data as prepared in the above section and converts it into a format friendly to our regression library, sklearn in particular. It also defines our target and predictor variables.  "
   ]
  },
  {
   "cell_type": "code",
   "execution_count": 23,
   "metadata": {},
   "outputs": [],
   "source": [
    "#separate target and independent variables\n",
    "# all columns are categorical\n",
    "y = sub_df['Arrest Flag']\n",
    "X = sub_df[cat_columns]"
   ]
  },
  {
   "cell_type": "code",
   "execution_count": 24,
   "metadata": {},
   "outputs": [],
   "source": [
    "#split into training and test data\n",
    "X_train, X_test, y_train, y_test = train_test_split(X, y, stratify=y, test_size = 0.25, random_state = 42)\n"
   ]
  },
  {
   "cell_type": "code",
   "execution_count": 25,
   "metadata": {},
   "outputs": [
    {
     "data": {
      "text/html": [
       "<div>\n",
       "<style scoped>\n",
       "    .dataframe tbody tr th:only-of-type {\n",
       "        vertical-align: middle;\n",
       "    }\n",
       "\n",
       "    .dataframe tbody tr th {\n",
       "        vertical-align: top;\n",
       "    }\n",
       "\n",
       "    .dataframe thead th {\n",
       "        text-align: right;\n",
       "    }\n",
       "</style>\n",
       "<table border=\"1\" class=\"dataframe\">\n",
       "  <thead>\n",
       "    <tr style=\"text-align: right;\">\n",
       "      <th></th>\n",
       "      <th>Subject Age Group_1 - 17</th>\n",
       "      <th>Subject Age Group_18 - 25</th>\n",
       "      <th>Subject Age Group_26 - 35</th>\n",
       "      <th>Subject Age Group_36 - 45</th>\n",
       "      <th>Subject Age Group_46 - 55</th>\n",
       "      <th>Subject Age Group_56 and Above</th>\n",
       "      <th>Weapon Type_Knife/Cutting/Stabbing Instrument</th>\n",
       "      <th>Weapon Type_Lethal Cutting Instrument</th>\n",
       "      <th>Weapon Type_None</th>\n",
       "      <th>Weapon Type_Others</th>\n",
       "      <th>...</th>\n",
       "      <th>Subject Perceived Gender_DUPLICATE</th>\n",
       "      <th>Subject Perceived Gender_Female</th>\n",
       "      <th>Subject Perceived Gender_Gender Diverse (gender non-conforming and/or transgender)</th>\n",
       "      <th>Subject Perceived Gender_Male</th>\n",
       "      <th>Subject Perceived Gender_Unable to Determine</th>\n",
       "      <th>Subject Perceived Gender_Unknown</th>\n",
       "      <th>Reported Date_Weekend</th>\n",
       "      <th>Reported Time_evening</th>\n",
       "      <th>Reported Time_morning</th>\n",
       "      <th>Reported Time_night</th>\n",
       "    </tr>\n",
       "  </thead>\n",
       "  <tbody>\n",
       "    <tr>\n",
       "      <th>46372</th>\n",
       "      <td>0</td>\n",
       "      <td>0</td>\n",
       "      <td>1</td>\n",
       "      <td>0</td>\n",
       "      <td>0</td>\n",
       "      <td>0</td>\n",
       "      <td>0</td>\n",
       "      <td>0</td>\n",
       "      <td>0</td>\n",
       "      <td>0</td>\n",
       "      <td>...</td>\n",
       "      <td>0</td>\n",
       "      <td>0</td>\n",
       "      <td>0</td>\n",
       "      <td>1</td>\n",
       "      <td>0</td>\n",
       "      <td>0</td>\n",
       "      <td>0</td>\n",
       "      <td>0</td>\n",
       "      <td>0</td>\n",
       "      <td>0</td>\n",
       "    </tr>\n",
       "    <tr>\n",
       "      <th>12537</th>\n",
       "      <td>0</td>\n",
       "      <td>0</td>\n",
       "      <td>0</td>\n",
       "      <td>0</td>\n",
       "      <td>1</td>\n",
       "      <td>0</td>\n",
       "      <td>0</td>\n",
       "      <td>0</td>\n",
       "      <td>0</td>\n",
       "      <td>0</td>\n",
       "      <td>...</td>\n",
       "      <td>0</td>\n",
       "      <td>0</td>\n",
       "      <td>0</td>\n",
       "      <td>1</td>\n",
       "      <td>0</td>\n",
       "      <td>0</td>\n",
       "      <td>0</td>\n",
       "      <td>1</td>\n",
       "      <td>0</td>\n",
       "      <td>0</td>\n",
       "    </tr>\n",
       "    <tr>\n",
       "      <th>20177</th>\n",
       "      <td>0</td>\n",
       "      <td>0</td>\n",
       "      <td>0</td>\n",
       "      <td>0</td>\n",
       "      <td>1</td>\n",
       "      <td>0</td>\n",
       "      <td>0</td>\n",
       "      <td>0</td>\n",
       "      <td>0</td>\n",
       "      <td>0</td>\n",
       "      <td>...</td>\n",
       "      <td>0</td>\n",
       "      <td>1</td>\n",
       "      <td>0</td>\n",
       "      <td>0</td>\n",
       "      <td>0</td>\n",
       "      <td>0</td>\n",
       "      <td>1</td>\n",
       "      <td>0</td>\n",
       "      <td>1</td>\n",
       "      <td>0</td>\n",
       "    </tr>\n",
       "    <tr>\n",
       "      <th>27838</th>\n",
       "      <td>0</td>\n",
       "      <td>0</td>\n",
       "      <td>0</td>\n",
       "      <td>0</td>\n",
       "      <td>1</td>\n",
       "      <td>0</td>\n",
       "      <td>0</td>\n",
       "      <td>0</td>\n",
       "      <td>1</td>\n",
       "      <td>0</td>\n",
       "      <td>...</td>\n",
       "      <td>0</td>\n",
       "      <td>0</td>\n",
       "      <td>0</td>\n",
       "      <td>1</td>\n",
       "      <td>0</td>\n",
       "      <td>0</td>\n",
       "      <td>0</td>\n",
       "      <td>1</td>\n",
       "      <td>0</td>\n",
       "      <td>0</td>\n",
       "    </tr>\n",
       "    <tr>\n",
       "      <th>5222</th>\n",
       "      <td>0</td>\n",
       "      <td>0</td>\n",
       "      <td>0</td>\n",
       "      <td>0</td>\n",
       "      <td>1</td>\n",
       "      <td>0</td>\n",
       "      <td>0</td>\n",
       "      <td>0</td>\n",
       "      <td>1</td>\n",
       "      <td>0</td>\n",
       "      <td>...</td>\n",
       "      <td>0</td>\n",
       "      <td>0</td>\n",
       "      <td>0</td>\n",
       "      <td>1</td>\n",
       "      <td>0</td>\n",
       "      <td>0</td>\n",
       "      <td>1</td>\n",
       "      <td>0</td>\n",
       "      <td>0</td>\n",
       "      <td>1</td>\n",
       "    </tr>\n",
       "    <tr>\n",
       "      <th>...</th>\n",
       "      <td>...</td>\n",
       "      <td>...</td>\n",
       "      <td>...</td>\n",
       "      <td>...</td>\n",
       "      <td>...</td>\n",
       "      <td>...</td>\n",
       "      <td>...</td>\n",
       "      <td>...</td>\n",
       "      <td>...</td>\n",
       "      <td>...</td>\n",
       "      <td>...</td>\n",
       "      <td>...</td>\n",
       "      <td>...</td>\n",
       "      <td>...</td>\n",
       "      <td>...</td>\n",
       "      <td>...</td>\n",
       "      <td>...</td>\n",
       "      <td>...</td>\n",
       "      <td>...</td>\n",
       "      <td>...</td>\n",
       "      <td>...</td>\n",
       "    </tr>\n",
       "    <tr>\n",
       "      <th>13304</th>\n",
       "      <td>0</td>\n",
       "      <td>1</td>\n",
       "      <td>0</td>\n",
       "      <td>0</td>\n",
       "      <td>0</td>\n",
       "      <td>0</td>\n",
       "      <td>0</td>\n",
       "      <td>0</td>\n",
       "      <td>1</td>\n",
       "      <td>0</td>\n",
       "      <td>...</td>\n",
       "      <td>0</td>\n",
       "      <td>0</td>\n",
       "      <td>0</td>\n",
       "      <td>1</td>\n",
       "      <td>0</td>\n",
       "      <td>0</td>\n",
       "      <td>0</td>\n",
       "      <td>0</td>\n",
       "      <td>0</td>\n",
       "      <td>1</td>\n",
       "    </tr>\n",
       "    <tr>\n",
       "      <th>56825</th>\n",
       "      <td>0</td>\n",
       "      <td>0</td>\n",
       "      <td>0</td>\n",
       "      <td>1</td>\n",
       "      <td>0</td>\n",
       "      <td>0</td>\n",
       "      <td>0</td>\n",
       "      <td>0</td>\n",
       "      <td>1</td>\n",
       "      <td>0</td>\n",
       "      <td>...</td>\n",
       "      <td>0</td>\n",
       "      <td>0</td>\n",
       "      <td>0</td>\n",
       "      <td>1</td>\n",
       "      <td>0</td>\n",
       "      <td>0</td>\n",
       "      <td>0</td>\n",
       "      <td>0</td>\n",
       "      <td>0</td>\n",
       "      <td>0</td>\n",
       "    </tr>\n",
       "    <tr>\n",
       "      <th>40798</th>\n",
       "      <td>0</td>\n",
       "      <td>0</td>\n",
       "      <td>1</td>\n",
       "      <td>0</td>\n",
       "      <td>0</td>\n",
       "      <td>0</td>\n",
       "      <td>0</td>\n",
       "      <td>0</td>\n",
       "      <td>1</td>\n",
       "      <td>0</td>\n",
       "      <td>...</td>\n",
       "      <td>0</td>\n",
       "      <td>0</td>\n",
       "      <td>0</td>\n",
       "      <td>1</td>\n",
       "      <td>0</td>\n",
       "      <td>0</td>\n",
       "      <td>0</td>\n",
       "      <td>0</td>\n",
       "      <td>1</td>\n",
       "      <td>0</td>\n",
       "    </tr>\n",
       "    <tr>\n",
       "      <th>49712</th>\n",
       "      <td>0</td>\n",
       "      <td>0</td>\n",
       "      <td>0</td>\n",
       "      <td>1</td>\n",
       "      <td>0</td>\n",
       "      <td>0</td>\n",
       "      <td>0</td>\n",
       "      <td>1</td>\n",
       "      <td>0</td>\n",
       "      <td>0</td>\n",
       "      <td>...</td>\n",
       "      <td>0</td>\n",
       "      <td>1</td>\n",
       "      <td>0</td>\n",
       "      <td>0</td>\n",
       "      <td>0</td>\n",
       "      <td>0</td>\n",
       "      <td>0</td>\n",
       "      <td>0</td>\n",
       "      <td>0</td>\n",
       "      <td>1</td>\n",
       "    </tr>\n",
       "    <tr>\n",
       "      <th>56950</th>\n",
       "      <td>0</td>\n",
       "      <td>0</td>\n",
       "      <td>0</td>\n",
       "      <td>1</td>\n",
       "      <td>0</td>\n",
       "      <td>0</td>\n",
       "      <td>0</td>\n",
       "      <td>0</td>\n",
       "      <td>0</td>\n",
       "      <td>0</td>\n",
       "      <td>...</td>\n",
       "      <td>0</td>\n",
       "      <td>1</td>\n",
       "      <td>0</td>\n",
       "      <td>0</td>\n",
       "      <td>0</td>\n",
       "      <td>0</td>\n",
       "      <td>1</td>\n",
       "      <td>0</td>\n",
       "      <td>1</td>\n",
       "      <td>0</td>\n",
       "    </tr>\n",
       "  </tbody>\n",
       "</table>\n",
       "<p>43297 rows × 40 columns</p>\n",
       "</div>"
      ],
      "text/plain": [
       "       Subject Age Group_1 - 17  Subject Age Group_18 - 25  \\\n",
       "46372                         0                          0   \n",
       "12537                         0                          0   \n",
       "20177                         0                          0   \n",
       "27838                         0                          0   \n",
       "5222                          0                          0   \n",
       "...                         ...                        ...   \n",
       "13304                         0                          1   \n",
       "56825                         0                          0   \n",
       "40798                         0                          0   \n",
       "49712                         0                          0   \n",
       "56950                         0                          0   \n",
       "\n",
       "       Subject Age Group_26 - 35  Subject Age Group_36 - 45  \\\n",
       "46372                          1                          0   \n",
       "12537                          0                          0   \n",
       "20177                          0                          0   \n",
       "27838                          0                          0   \n",
       "5222                           0                          0   \n",
       "...                          ...                        ...   \n",
       "13304                          0                          0   \n",
       "56825                          0                          1   \n",
       "40798                          1                          0   \n",
       "49712                          0                          1   \n",
       "56950                          0                          1   \n",
       "\n",
       "       Subject Age Group_46 - 55  Subject Age Group_56 and Above  \\\n",
       "46372                          0                               0   \n",
       "12537                          1                               0   \n",
       "20177                          1                               0   \n",
       "27838                          1                               0   \n",
       "5222                           1                               0   \n",
       "...                          ...                             ...   \n",
       "13304                          0                               0   \n",
       "56825                          0                               0   \n",
       "40798                          0                               0   \n",
       "49712                          0                               0   \n",
       "56950                          0                               0   \n",
       "\n",
       "       Weapon Type_Knife/Cutting/Stabbing Instrument  \\\n",
       "46372                                              0   \n",
       "12537                                              0   \n",
       "20177                                              0   \n",
       "27838                                              0   \n",
       "5222                                               0   \n",
       "...                                              ...   \n",
       "13304                                              0   \n",
       "56825                                              0   \n",
       "40798                                              0   \n",
       "49712                                              0   \n",
       "56950                                              0   \n",
       "\n",
       "       Weapon Type_Lethal Cutting Instrument  Weapon Type_None  \\\n",
       "46372                                      0                 0   \n",
       "12537                                      0                 0   \n",
       "20177                                      0                 0   \n",
       "27838                                      0                 1   \n",
       "5222                                       0                 1   \n",
       "...                                      ...               ...   \n",
       "13304                                      0                 1   \n",
       "56825                                      0                 1   \n",
       "40798                                      0                 1   \n",
       "49712                                      1                 0   \n",
       "56950                                      0                 0   \n",
       "\n",
       "       Weapon Type_Others  ...  Subject Perceived Gender_DUPLICATE  \\\n",
       "46372                   0  ...                                   0   \n",
       "12537                   0  ...                                   0   \n",
       "20177                   0  ...                                   0   \n",
       "27838                   0  ...                                   0   \n",
       "5222                    0  ...                                   0   \n",
       "...                   ...  ...                                 ...   \n",
       "13304                   0  ...                                   0   \n",
       "56825                   0  ...                                   0   \n",
       "40798                   0  ...                                   0   \n",
       "49712                   0  ...                                   0   \n",
       "56950                   0  ...                                   0   \n",
       "\n",
       "       Subject Perceived Gender_Female  \\\n",
       "46372                                0   \n",
       "12537                                0   \n",
       "20177                                1   \n",
       "27838                                0   \n",
       "5222                                 0   \n",
       "...                                ...   \n",
       "13304                                0   \n",
       "56825                                0   \n",
       "40798                                0   \n",
       "49712                                1   \n",
       "56950                                1   \n",
       "\n",
       "       Subject Perceived Gender_Gender Diverse (gender non-conforming and/or transgender)  \\\n",
       "46372                                                  0                                    \n",
       "12537                                                  0                                    \n",
       "20177                                                  0                                    \n",
       "27838                                                  0                                    \n",
       "5222                                                   0                                    \n",
       "...                                                  ...                                    \n",
       "13304                                                  0                                    \n",
       "56825                                                  0                                    \n",
       "40798                                                  0                                    \n",
       "49712                                                  0                                    \n",
       "56950                                                  0                                    \n",
       "\n",
       "       Subject Perceived Gender_Male  \\\n",
       "46372                              1   \n",
       "12537                              1   \n",
       "20177                              0   \n",
       "27838                              1   \n",
       "5222                               1   \n",
       "...                              ...   \n",
       "13304                              1   \n",
       "56825                              1   \n",
       "40798                              1   \n",
       "49712                              0   \n",
       "56950                              0   \n",
       "\n",
       "       Subject Perceived Gender_Unable to Determine  \\\n",
       "46372                                             0   \n",
       "12537                                             0   \n",
       "20177                                             0   \n",
       "27838                                             0   \n",
       "5222                                              0   \n",
       "...                                             ...   \n",
       "13304                                             0   \n",
       "56825                                             0   \n",
       "40798                                             0   \n",
       "49712                                             0   \n",
       "56950                                             0   \n",
       "\n",
       "       Subject Perceived Gender_Unknown  Reported Date_Weekend  \\\n",
       "46372                                 0                      0   \n",
       "12537                                 0                      0   \n",
       "20177                                 0                      1   \n",
       "27838                                 0                      0   \n",
       "5222                                  0                      1   \n",
       "...                                 ...                    ...   \n",
       "13304                                 0                      0   \n",
       "56825                                 0                      0   \n",
       "40798                                 0                      0   \n",
       "49712                                 0                      0   \n",
       "56950                                 0                      1   \n",
       "\n",
       "       Reported Time_evening  Reported Time_morning  Reported Time_night  \n",
       "46372                      0                      0                    0  \n",
       "12537                      1                      0                    0  \n",
       "20177                      0                      1                    0  \n",
       "27838                      1                      0                    0  \n",
       "5222                       0                      0                    1  \n",
       "...                      ...                    ...                  ...  \n",
       "13304                      0                      0                    1  \n",
       "56825                      0                      0                    0  \n",
       "40798                      0                      1                    0  \n",
       "49712                      0                      0                    1  \n",
       "56950                      0                      1                    0  \n",
       "\n",
       "[43297 rows x 40 columns]"
      ]
     },
     "execution_count": 25,
     "metadata": {},
     "output_type": "execute_result"
    }
   ],
   "source": [
    "#transform categorical variables to numerical (train data)\n",
    "X_train = pd.get_dummies(X_train, drop_first=True)\n",
    "X_train"
   ]
  },
  {
   "cell_type": "code",
   "execution_count": 26,
   "metadata": {},
   "outputs": [
    {
     "data": {
      "text/html": [
       "<div>\n",
       "<style scoped>\n",
       "    .dataframe tbody tr th:only-of-type {\n",
       "        vertical-align: middle;\n",
       "    }\n",
       "\n",
       "    .dataframe tbody tr th {\n",
       "        vertical-align: top;\n",
       "    }\n",
       "\n",
       "    .dataframe thead th {\n",
       "        text-align: right;\n",
       "    }\n",
       "</style>\n",
       "<table border=\"1\" class=\"dataframe\">\n",
       "  <thead>\n",
       "    <tr style=\"text-align: right;\">\n",
       "      <th></th>\n",
       "      <th>Subject Age Group_1 - 17</th>\n",
       "      <th>Subject Age Group_18 - 25</th>\n",
       "      <th>Subject Age Group_26 - 35</th>\n",
       "      <th>Subject Age Group_36 - 45</th>\n",
       "      <th>Subject Age Group_46 - 55</th>\n",
       "      <th>Subject Age Group_56 and Above</th>\n",
       "      <th>Weapon Type_Knife/Cutting/Stabbing Instrument</th>\n",
       "      <th>Weapon Type_Lethal Cutting Instrument</th>\n",
       "      <th>Weapon Type_None</th>\n",
       "      <th>Weapon Type_Others</th>\n",
       "      <th>...</th>\n",
       "      <th>Subject Perceived Gender_DUPLICATE</th>\n",
       "      <th>Subject Perceived Gender_Female</th>\n",
       "      <th>Subject Perceived Gender_Gender Diverse (gender non-conforming and/or transgender)</th>\n",
       "      <th>Subject Perceived Gender_Male</th>\n",
       "      <th>Subject Perceived Gender_Unable to Determine</th>\n",
       "      <th>Subject Perceived Gender_Unknown</th>\n",
       "      <th>Reported Date_Weekend</th>\n",
       "      <th>Reported Time_evening</th>\n",
       "      <th>Reported Time_morning</th>\n",
       "      <th>Reported Time_night</th>\n",
       "    </tr>\n",
       "  </thead>\n",
       "  <tbody>\n",
       "    <tr>\n",
       "      <th>39901</th>\n",
       "      <td>0</td>\n",
       "      <td>0</td>\n",
       "      <td>0</td>\n",
       "      <td>1</td>\n",
       "      <td>0</td>\n",
       "      <td>0</td>\n",
       "      <td>0</td>\n",
       "      <td>0</td>\n",
       "      <td>0</td>\n",
       "      <td>0</td>\n",
       "      <td>...</td>\n",
       "      <td>0</td>\n",
       "      <td>0</td>\n",
       "      <td>0</td>\n",
       "      <td>1</td>\n",
       "      <td>0</td>\n",
       "      <td>0</td>\n",
       "      <td>1</td>\n",
       "      <td>0</td>\n",
       "      <td>1</td>\n",
       "      <td>0</td>\n",
       "    </tr>\n",
       "    <tr>\n",
       "      <th>11089</th>\n",
       "      <td>0</td>\n",
       "      <td>1</td>\n",
       "      <td>0</td>\n",
       "      <td>0</td>\n",
       "      <td>0</td>\n",
       "      <td>0</td>\n",
       "      <td>0</td>\n",
       "      <td>0</td>\n",
       "      <td>0</td>\n",
       "      <td>0</td>\n",
       "      <td>...</td>\n",
       "      <td>0</td>\n",
       "      <td>0</td>\n",
       "      <td>0</td>\n",
       "      <td>1</td>\n",
       "      <td>0</td>\n",
       "      <td>0</td>\n",
       "      <td>1</td>\n",
       "      <td>1</td>\n",
       "      <td>0</td>\n",
       "      <td>0</td>\n",
       "    </tr>\n",
       "    <tr>\n",
       "      <th>869</th>\n",
       "      <td>0</td>\n",
       "      <td>0</td>\n",
       "      <td>0</td>\n",
       "      <td>0</td>\n",
       "      <td>1</td>\n",
       "      <td>0</td>\n",
       "      <td>0</td>\n",
       "      <td>0</td>\n",
       "      <td>1</td>\n",
       "      <td>0</td>\n",
       "      <td>...</td>\n",
       "      <td>0</td>\n",
       "      <td>0</td>\n",
       "      <td>0</td>\n",
       "      <td>1</td>\n",
       "      <td>0</td>\n",
       "      <td>0</td>\n",
       "      <td>0</td>\n",
       "      <td>1</td>\n",
       "      <td>0</td>\n",
       "      <td>0</td>\n",
       "    </tr>\n",
       "    <tr>\n",
       "      <th>34324</th>\n",
       "      <td>0</td>\n",
       "      <td>0</td>\n",
       "      <td>0</td>\n",
       "      <td>0</td>\n",
       "      <td>1</td>\n",
       "      <td>0</td>\n",
       "      <td>0</td>\n",
       "      <td>0</td>\n",
       "      <td>1</td>\n",
       "      <td>0</td>\n",
       "      <td>...</td>\n",
       "      <td>0</td>\n",
       "      <td>0</td>\n",
       "      <td>0</td>\n",
       "      <td>1</td>\n",
       "      <td>0</td>\n",
       "      <td>0</td>\n",
       "      <td>0</td>\n",
       "      <td>0</td>\n",
       "      <td>1</td>\n",
       "      <td>0</td>\n",
       "    </tr>\n",
       "    <tr>\n",
       "      <th>18084</th>\n",
       "      <td>0</td>\n",
       "      <td>1</td>\n",
       "      <td>0</td>\n",
       "      <td>0</td>\n",
       "      <td>0</td>\n",
       "      <td>0</td>\n",
       "      <td>0</td>\n",
       "      <td>0</td>\n",
       "      <td>1</td>\n",
       "      <td>0</td>\n",
       "      <td>...</td>\n",
       "      <td>0</td>\n",
       "      <td>0</td>\n",
       "      <td>0</td>\n",
       "      <td>1</td>\n",
       "      <td>0</td>\n",
       "      <td>0</td>\n",
       "      <td>0</td>\n",
       "      <td>0</td>\n",
       "      <td>1</td>\n",
       "      <td>0</td>\n",
       "    </tr>\n",
       "    <tr>\n",
       "      <th>...</th>\n",
       "      <td>...</td>\n",
       "      <td>...</td>\n",
       "      <td>...</td>\n",
       "      <td>...</td>\n",
       "      <td>...</td>\n",
       "      <td>...</td>\n",
       "      <td>...</td>\n",
       "      <td>...</td>\n",
       "      <td>...</td>\n",
       "      <td>...</td>\n",
       "      <td>...</td>\n",
       "      <td>...</td>\n",
       "      <td>...</td>\n",
       "      <td>...</td>\n",
       "      <td>...</td>\n",
       "      <td>...</td>\n",
       "      <td>...</td>\n",
       "      <td>...</td>\n",
       "      <td>...</td>\n",
       "      <td>...</td>\n",
       "      <td>...</td>\n",
       "    </tr>\n",
       "    <tr>\n",
       "      <th>5327</th>\n",
       "      <td>1</td>\n",
       "      <td>0</td>\n",
       "      <td>0</td>\n",
       "      <td>0</td>\n",
       "      <td>0</td>\n",
       "      <td>0</td>\n",
       "      <td>0</td>\n",
       "      <td>0</td>\n",
       "      <td>1</td>\n",
       "      <td>0</td>\n",
       "      <td>...</td>\n",
       "      <td>0</td>\n",
       "      <td>0</td>\n",
       "      <td>0</td>\n",
       "      <td>1</td>\n",
       "      <td>0</td>\n",
       "      <td>0</td>\n",
       "      <td>0</td>\n",
       "      <td>0</td>\n",
       "      <td>0</td>\n",
       "      <td>0</td>\n",
       "    </tr>\n",
       "    <tr>\n",
       "      <th>17280</th>\n",
       "      <td>0</td>\n",
       "      <td>0</td>\n",
       "      <td>0</td>\n",
       "      <td>1</td>\n",
       "      <td>0</td>\n",
       "      <td>0</td>\n",
       "      <td>0</td>\n",
       "      <td>0</td>\n",
       "      <td>1</td>\n",
       "      <td>0</td>\n",
       "      <td>...</td>\n",
       "      <td>0</td>\n",
       "      <td>0</td>\n",
       "      <td>0</td>\n",
       "      <td>1</td>\n",
       "      <td>0</td>\n",
       "      <td>0</td>\n",
       "      <td>1</td>\n",
       "      <td>1</td>\n",
       "      <td>0</td>\n",
       "      <td>0</td>\n",
       "    </tr>\n",
       "    <tr>\n",
       "      <th>5597</th>\n",
       "      <td>0</td>\n",
       "      <td>0</td>\n",
       "      <td>1</td>\n",
       "      <td>0</td>\n",
       "      <td>0</td>\n",
       "      <td>0</td>\n",
       "      <td>0</td>\n",
       "      <td>0</td>\n",
       "      <td>0</td>\n",
       "      <td>0</td>\n",
       "      <td>...</td>\n",
       "      <td>0</td>\n",
       "      <td>0</td>\n",
       "      <td>0</td>\n",
       "      <td>1</td>\n",
       "      <td>0</td>\n",
       "      <td>0</td>\n",
       "      <td>0</td>\n",
       "      <td>0</td>\n",
       "      <td>0</td>\n",
       "      <td>1</td>\n",
       "    </tr>\n",
       "    <tr>\n",
       "      <th>17587</th>\n",
       "      <td>0</td>\n",
       "      <td>0</td>\n",
       "      <td>0</td>\n",
       "      <td>0</td>\n",
       "      <td>1</td>\n",
       "      <td>0</td>\n",
       "      <td>0</td>\n",
       "      <td>0</td>\n",
       "      <td>0</td>\n",
       "      <td>0</td>\n",
       "      <td>...</td>\n",
       "      <td>0</td>\n",
       "      <td>1</td>\n",
       "      <td>0</td>\n",
       "      <td>0</td>\n",
       "      <td>0</td>\n",
       "      <td>0</td>\n",
       "      <td>0</td>\n",
       "      <td>1</td>\n",
       "      <td>0</td>\n",
       "      <td>0</td>\n",
       "    </tr>\n",
       "    <tr>\n",
       "      <th>26061</th>\n",
       "      <td>0</td>\n",
       "      <td>0</td>\n",
       "      <td>0</td>\n",
       "      <td>0</td>\n",
       "      <td>1</td>\n",
       "      <td>0</td>\n",
       "      <td>0</td>\n",
       "      <td>0</td>\n",
       "      <td>1</td>\n",
       "      <td>0</td>\n",
       "      <td>...</td>\n",
       "      <td>0</td>\n",
       "      <td>0</td>\n",
       "      <td>0</td>\n",
       "      <td>1</td>\n",
       "      <td>0</td>\n",
       "      <td>0</td>\n",
       "      <td>0</td>\n",
       "      <td>0</td>\n",
       "      <td>0</td>\n",
       "      <td>0</td>\n",
       "    </tr>\n",
       "  </tbody>\n",
       "</table>\n",
       "<p>14433 rows × 40 columns</p>\n",
       "</div>"
      ],
      "text/plain": [
       "       Subject Age Group_1 - 17  Subject Age Group_18 - 25  \\\n",
       "39901                         0                          0   \n",
       "11089                         0                          1   \n",
       "869                           0                          0   \n",
       "34324                         0                          0   \n",
       "18084                         0                          1   \n",
       "...                         ...                        ...   \n",
       "5327                          1                          0   \n",
       "17280                         0                          0   \n",
       "5597                          0                          0   \n",
       "17587                         0                          0   \n",
       "26061                         0                          0   \n",
       "\n",
       "       Subject Age Group_26 - 35  Subject Age Group_36 - 45  \\\n",
       "39901                          0                          1   \n",
       "11089                          0                          0   \n",
       "869                            0                          0   \n",
       "34324                          0                          0   \n",
       "18084                          0                          0   \n",
       "...                          ...                        ...   \n",
       "5327                           0                          0   \n",
       "17280                          0                          1   \n",
       "5597                           1                          0   \n",
       "17587                          0                          0   \n",
       "26061                          0                          0   \n",
       "\n",
       "       Subject Age Group_46 - 55  Subject Age Group_56 and Above  \\\n",
       "39901                          0                               0   \n",
       "11089                          0                               0   \n",
       "869                            1                               0   \n",
       "34324                          1                               0   \n",
       "18084                          0                               0   \n",
       "...                          ...                             ...   \n",
       "5327                           0                               0   \n",
       "17280                          0                               0   \n",
       "5597                           0                               0   \n",
       "17587                          1                               0   \n",
       "26061                          1                               0   \n",
       "\n",
       "       Weapon Type_Knife/Cutting/Stabbing Instrument  \\\n",
       "39901                                              0   \n",
       "11089                                              0   \n",
       "869                                                0   \n",
       "34324                                              0   \n",
       "18084                                              0   \n",
       "...                                              ...   \n",
       "5327                                               0   \n",
       "17280                                              0   \n",
       "5597                                               0   \n",
       "17587                                              0   \n",
       "26061                                              0   \n",
       "\n",
       "       Weapon Type_Lethal Cutting Instrument  Weapon Type_None  \\\n",
       "39901                                      0                 0   \n",
       "11089                                      0                 0   \n",
       "869                                        0                 1   \n",
       "34324                                      0                 1   \n",
       "18084                                      0                 1   \n",
       "...                                      ...               ...   \n",
       "5327                                       0                 1   \n",
       "17280                                      0                 1   \n",
       "5597                                       0                 0   \n",
       "17587                                      0                 0   \n",
       "26061                                      0                 1   \n",
       "\n",
       "       Weapon Type_Others  ...  Subject Perceived Gender_DUPLICATE  \\\n",
       "39901                   0  ...                                   0   \n",
       "11089                   0  ...                                   0   \n",
       "869                     0  ...                                   0   \n",
       "34324                   0  ...                                   0   \n",
       "18084                   0  ...                                   0   \n",
       "...                   ...  ...                                 ...   \n",
       "5327                    0  ...                                   0   \n",
       "17280                   0  ...                                   0   \n",
       "5597                    0  ...                                   0   \n",
       "17587                   0  ...                                   0   \n",
       "26061                   0  ...                                   0   \n",
       "\n",
       "       Subject Perceived Gender_Female  \\\n",
       "39901                                0   \n",
       "11089                                0   \n",
       "869                                  0   \n",
       "34324                                0   \n",
       "18084                                0   \n",
       "...                                ...   \n",
       "5327                                 0   \n",
       "17280                                0   \n",
       "5597                                 0   \n",
       "17587                                1   \n",
       "26061                                0   \n",
       "\n",
       "       Subject Perceived Gender_Gender Diverse (gender non-conforming and/or transgender)  \\\n",
       "39901                                                  0                                    \n",
       "11089                                                  0                                    \n",
       "869                                                    0                                    \n",
       "34324                                                  0                                    \n",
       "18084                                                  0                                    \n",
       "...                                                  ...                                    \n",
       "5327                                                   0                                    \n",
       "17280                                                  0                                    \n",
       "5597                                                   0                                    \n",
       "17587                                                  0                                    \n",
       "26061                                                  0                                    \n",
       "\n",
       "       Subject Perceived Gender_Male  \\\n",
       "39901                              1   \n",
       "11089                              1   \n",
       "869                                1   \n",
       "34324                              1   \n",
       "18084                              1   \n",
       "...                              ...   \n",
       "5327                               1   \n",
       "17280                              1   \n",
       "5597                               1   \n",
       "17587                              0   \n",
       "26061                              1   \n",
       "\n",
       "       Subject Perceived Gender_Unable to Determine  \\\n",
       "39901                                             0   \n",
       "11089                                             0   \n",
       "869                                               0   \n",
       "34324                                             0   \n",
       "18084                                             0   \n",
       "...                                             ...   \n",
       "5327                                              0   \n",
       "17280                                             0   \n",
       "5597                                              0   \n",
       "17587                                             0   \n",
       "26061                                             0   \n",
       "\n",
       "       Subject Perceived Gender_Unknown  Reported Date_Weekend  \\\n",
       "39901                                 0                      1   \n",
       "11089                                 0                      1   \n",
       "869                                   0                      0   \n",
       "34324                                 0                      0   \n",
       "18084                                 0                      0   \n",
       "...                                 ...                    ...   \n",
       "5327                                  0                      0   \n",
       "17280                                 0                      1   \n",
       "5597                                  0                      0   \n",
       "17587                                 0                      0   \n",
       "26061                                 0                      0   \n",
       "\n",
       "       Reported Time_evening  Reported Time_morning  Reported Time_night  \n",
       "39901                      0                      1                    0  \n",
       "11089                      1                      0                    0  \n",
       "869                        1                      0                    0  \n",
       "34324                      0                      1                    0  \n",
       "18084                      0                      1                    0  \n",
       "...                      ...                    ...                  ...  \n",
       "5327                       0                      0                    0  \n",
       "17280                      1                      0                    0  \n",
       "5597                       0                      0                    1  \n",
       "17587                      1                      0                    0  \n",
       "26061                      0                      0                    0  \n",
       "\n",
       "[14433 rows x 40 columns]"
      ]
     },
     "execution_count": 26,
     "metadata": {},
     "output_type": "execute_result"
    }
   ],
   "source": [
    "#get dummies for X_test\n",
    "X_test = pd.get_dummies(X_test, drop_first=True)\n",
    "X_test"
   ]
  },
  {
   "cell_type": "markdown",
   "metadata": {},
   "source": [
    "## Modelling "
   ]
  },
  {
   "cell_type": "markdown",
   "metadata": {},
   "source": [
    "#### Logistic Regression Model"
   ]
  },
  {
   "cell_type": "markdown",
   "metadata": {},
   "source": [
    "Since this is a classification task, we'll start with logistic regression to determine whether or not a Terry stop should be made given the information contained in our predictor variables. \\\n",
    "Below, we initiate the model with the following parameters to prevent overfitting:\n",
    "* **fit_intercept = False:** We'll not be fitting an intercept term because our dataset is relatively small and we're using C\n",
    "* **C=1e12:** C is the inverse of regularization strength. We're telling the model to have very low regularization.\n",
    "* **solver = 'liblinear':** we choose liblinear as the algorithm to use for optimizing our model's loss function. It can handle both L1 and L2 regularization"
   ]
  },
  {
   "cell_type": "code",
   "execution_count": 27,
   "metadata": {},
   "outputs": [],
   "source": [
    "#initiate\n",
    "logreg = LogisticRegression(fit_intercept=False, C=1e12, solver='liblinear')\n",
    "#Fit the model\n",
    "log_model = logreg.fit(X_train, y_train)\n",
    "#make predictions\n",
    "y_preds = logreg.predict(X_test)\n"
   ]
  },
  {
   "cell_type": "code",
   "execution_count": 28,
   "metadata": {},
   "outputs": [
    {
     "name": "stdout",
     "output_type": "stream",
     "text": [
      "Accuracy: 0.8972493591076006\n"
     ]
    }
   ],
   "source": [
    "#calculate accuracy\n",
    "accuracy = accuracy_score(y_test, y_preds)\n",
    "print(f\"Accuracy: {accuracy}\")"
   ]
  },
  {
   "cell_type": "markdown",
   "metadata": {},
   "source": [
    "The model has 89% accuracy, which can be considered a good score. But is it, really? Let's find out using a confusion matrix and a classification report"
   ]
  },
  {
   "cell_type": "code",
   "execution_count": 29,
   "metadata": {},
   "outputs": [
    {
     "name": "stdout",
     "output_type": "stream",
     "text": [
      "              precision    recall  f1-score   support\n",
      "\n",
      "           0       0.90      1.00      0.95     12950\n",
      "           1       0.50      0.00      0.01      1483\n",
      "\n",
      "    accuracy                           0.90     14433\n",
      "   macro avg       0.70      0.50      0.48     14433\n",
      "weighted avg       0.86      0.90      0.85     14433\n",
      "\n"
     ]
    }
   ],
   "source": [
    "print(classification_report(y_test, y_preds))\n"
   ]
  },
  {
   "cell_type": "code",
   "execution_count": 30,
   "metadata": {},
   "outputs": [
    {
     "data": {
      "image/png": "[encoded data removed]",
      "text/plain": [
       "<Figure size 432x288 with 2 Axes>"
      ]
     },
     "metadata": {
      "needs_background": "light"
     },
     "output_type": "display_data"
    }
   ],
   "source": [
    "#create confusion matrix\n",
    "cnf_mtrx = confusion_matrix(y_test, y_preds)\n",
    "disp = ConfusionMatrixDisplay(confusion_matrix=cnf_mtrx, display_labels=log_model.classes_)\n",
    "disp.plot(cmap=plt.cm.Blues);"
   ]
  },
  {
   "cell_type": "markdown",
   "metadata": {},
   "source": [
    "The confusion matrix above shows: \\\n",
    "12,946 true positives\\\n",
    "1479 false positives \\\n",
    "4 false negatives\\\n",
    "4 true negatives \n",
    "\n",
    "Out of the the 12,950 '0' labels, only 4 were incoreectly classified. \\\n",
    "However, 1479 of the 1483 '1' labels were incorrectly classified.\n",
    "\n",
    "The model has a very high false negative rate, probably due to class imbalance. In the test set, 89% of the values belonged to class '0'\n",
    "\n",
    "Below, we'll calculate the AUC and plot the ROC AUC curve:\n"
   ]
  },
  {
   "cell_type": "code",
   "execution_count": 31,
   "metadata": {},
   "outputs": [
    {
     "name": "stdout",
     "output_type": "stream",
     "text": [
      "Train AUC: 0.8683123709464644\n",
      "Test AUC: 0.8689430013772563\n"
     ]
    },
    {
     "data": {
      "image/png": "[encoded data removed]",
      "text/plain": [
       "<Figure size 720x576 with 1 Axes>"
      ]
     },
     "metadata": {
      "needs_background": "light"
     },
     "output_type": "display_data"
    }
   ],
   "source": [
    "#calculate the train score\n",
    "y_train_score = logreg.decision_function(X_train)\n",
    "\n",
    "# calculate the test score \n",
    "y_test_score = logreg.decision_function(X_test)\n",
    "\n",
    "train_fpr, train_tpr, thresholds = roc_curve(y_train, y_train_score)\n",
    "test_fpr, test_tpr, thresholds = roc_curve(y_test, y_test_score)\n",
    "\n",
    "print('Train AUC: {}'.format(auc(train_fpr, train_tpr)))\n",
    "\n",
    "print('Test AUC: {}'.format(auc(test_fpr, test_tpr)))\n",
    "\n",
    "plt.figure(figsize=(10, 8))\n",
    "lw = 2\n",
    "\n",
    "plt.plot(train_fpr, train_tpr, color='green',\n",
    "         lw=lw, label='Train ROC curve')\n",
    "plt.plot(test_fpr, test_tpr, color='red',\n",
    "         lw=lw, label='Test ROC curve')\n",
    "\n",
    "plt.plot([0, 1], [0, 1], color='navy', lw=lw, linestyle='--')\n",
    "plt.xlim([0.0, 1.0])\n",
    "plt.ylim([0.0, 1.05])\n",
    "plt.yticks([i/20.0 for i in range(21)])\n",
    "plt.xticks([i/20.0 for i in range(21)])\n",
    "plt.xlabel('False Positive Rate')\n",
    "plt.ylabel('True Positive Rate')\n",
    "plt.title('Receiver operating characteristic (ROC) Curve')\n",
    "plt.legend(loc='lower right')\n",
    "plt.show()"
   ]
  },
  {
   "cell_type": "markdown",
   "metadata": {},
   "source": [
    "The Train and Test AUC are very close, which suggests that the model generalizes well. However, this model suffers from class imbalance and does not apply cross validation, which could lead to over confidence in the model's performance.\n",
    "\n",
    "**Applying business context, applying this model would lead to very many suspicious drivers not being arrested. Consequences of failing to arrest a potential criminal are more serious than if an innocent person was arrested.**\n",
    "\n",
    "We will therefore be optimizing for recall score."
   ]
  },
  {
   "cell_type": "markdown",
   "metadata": {},
   "source": [
    "#### Weighting the Logistic Regression due to class Imbalance"
   ]
  },
  {
   "cell_type": "code",
   "execution_count": 32,
   "metadata": {},
   "outputs": [
    {
     "name": "stdout",
     "output_type": "stream",
     "text": [
      "Label Distribution: 0.1145433133193042\n"
     ]
    },
    {
     "data": {
      "text/plain": [
       "Text(0.5, 1.0, 'Distribution of Arrests vs Non-arrests ')"
      ]
     },
     "execution_count": 32,
     "metadata": {},
     "output_type": "execute_result"
    },
    {
     "data": {
      "image/png": "[encoded data removed]",
      "text/plain": [
       "<Figure size 432x288 with 1 Axes>"
      ]
     },
     "metadata": {
      "needs_background": "light"
     },
     "output_type": "display_data"
    }
   ],
   "source": [
    "#preview the distribution of the classes again:\n",
    "sub_df['Arrest Flag'].value_counts().plot.bar()\n",
    "distribution_ratio =  sub_df['Arrest Flag'].value_counts()[1]/sub_df['Arrest Flag'].value_counts()[0]\n",
    "print(f\"Label Distribution: {distribution_ratio}\")\n",
    "plt.title(\"Distribution of Arrests vs Non-arrests \")"
   ]
  },
  {
   "cell_type": "code",
   "execution_count": 33,
   "metadata": {},
   "outputs": [
    {
     "data": {
      "text/plain": [
       "0    12950\n",
       "1     1483\n",
       "Name: Arrest Flag, dtype: int64"
      ]
     },
     "execution_count": 33,
     "metadata": {},
     "output_type": "execute_result"
    }
   ],
   "source": [
    "y_test.value_counts()"
   ]
  },
  {
   "cell_type": "code",
   "execution_count": 34,
   "metadata": {},
   "outputs": [
    {
     "name": "stdout",
     "output_type": "stream",
     "text": [
      "Distribution Ratio: 23.0/200.0\n"
     ]
    }
   ],
   "source": [
    "# convert 0.115 to fraction:\n",
    "import math\n",
    "gcd = math.gcd (115,1000)\n",
    "print(f\"Distribution Ratio: {115/gcd}/{1000/gcd}\")"
   ]
  },
  {
   "cell_type": "markdown",
   "metadata": {},
   "source": [
    "With the first model, we'll try using the inverse of class weights."
   ]
  },
  {
   "cell_type": "code",
   "execution_count": 35,
   "metadata": {},
   "outputs": [
    {
     "name": "stdout",
     "output_type": "stream",
     "text": [
      "Test Area Under Curve: 0.839831552967089\n",
      "Train Area Under Curve: 0.8388895155671211\n",
      "              precision    recall  f1-score   support\n",
      "\n",
      "           0       1.00      0.70      0.82     12950\n",
      "           1       0.27      0.98      0.43      1483\n",
      "\n",
      "    accuracy                           0.73     14433\n",
      "   macro avg       0.64      0.84      0.63     14433\n",
      "weighted avg       0.92      0.73      0.78     14433\n",
      "\n"
     ]
    },
    {
     "data": {
      "image/png": "[encoded data removed]",
      "text/plain": [
       "<Figure size 432x288 with 2 Axes>"
      ]
     },
     "metadata": {
      "needs_background": "light"
     },
     "output_type": "display_data"
    }
   ],
   "source": [
    "#define inverted class weights:\n",
    "w = {0:23, 1:200}\n",
    "\n",
    "#instantiate, fit and predict\n",
    "lg2 = LogisticRegression(random_state=42, class_weight= w, fit_intercept=False, C=1e12, solver='liblinear')\n",
    "lg2.fit(X_train, y_train)\n",
    "lg2_preds = lg2.predict(X_test)\n",
    "\n",
    "#performance: \n",
    "print(f'Test Area Under Curve: {roc_auc_score(y_test, lg2_preds)}')\n",
    "print(f'Train Area Under Curve: {roc_auc_score(y_train, lg2.predict(X_train))}')\n",
    "\n",
    "\n",
    "print(classification_report(y_test, lg2_preds))\n",
    "\n",
    "\n",
    "cnf_mtrx = confusion_matrix(y_test, lg2_preds)\n",
    "disp = ConfusionMatrixDisplay(confusion_matrix=cnf_mtrx, display_labels=lg2.classes_)\n",
    "disp.plot(cmap=plt.cm.Blues);"
   ]
  },
  {
   "cell_type": "markdown",
   "metadata": {},
   "source": [
    "* This model predicted 1447 out of 1483 arrests correctly, which is a huge improvement!\n",
    "* However, precision really took a hit and dropped to 27%. This means that we would be stopping a lot of people unncesarily who would turn out to be false negatives. The model predicts 3,834 wrong arrests.\n",
    "* The test and train AUC are close, so the model generalizes well too. "
   ]
  },
  {
   "cell_type": "markdown",
   "metadata": {},
   "source": [
    "#### Logistic Regression with GridsearchCV "
   ]
  },
  {
   "cell_type": "markdown",
   "metadata": {},
   "source": [
    "While the model above would help us arrest 98% of people that do need to be arrested, it would be at the expense of a lot others who don't deserve to be arrested. Perhaps we should find a balance. \n",
    "\n",
    "The class weights used in the above model were simply inverted class distribution ratios. Let's try other value combinations using GridsearchCV. To try and acheive the said balance, we'll optimize for f1 score."
   ]
  },
  {
   "cell_type": "code",
   "execution_count": 36,
   "metadata": {},
   "outputs": [
    {
     "name": "stderr",
     "output_type": "stream",
     "text": [
      "c:\\Users\\Libellule\\anaconda3\\envs\\learn-env\\lib\\site-packages\\sklearn\\model_selection\\_validation.py:548: FitFailedWarning: Estimator fit failed. The score on this train-test partition for these parameters will be set to nan. Details: \n",
      "TypeError: float() argument must be a string or a number, not 'list'\n",
      "\n",
      "The above exception was the direct cause of the following exception:\n",
      "\n",
      "Traceback (most recent call last):\n",
      "  File \"c:\\Users\\Libellule\\anaconda3\\envs\\learn-env\\lib\\site-packages\\sklearn\\model_selection\\_validation.py\", line 531, in _fit_and_score\n",
      "    estimator.fit(X_train, y_train, **fit_params)\n",
      "  File \"c:\\Users\\Libellule\\anaconda3\\envs\\learn-env\\lib\\site-packages\\sklearn\\linear_model\\_logistic.py\", line 1356, in fit\n",
      "    self.coef_, self.intercept_, n_iter_ = _fit_liblinear(\n",
      "  File \"c:\\Users\\Libellule\\anaconda3\\envs\\learn-env\\lib\\site-packages\\sklearn\\svm\\_base.py\", line 930, in _fit_liblinear\n",
      "    class_weight_ = compute_class_weight(class_weight, classes=classes_,\n",
      "  File \"c:\\Users\\Libellule\\anaconda3\\envs\\learn-env\\lib\\site-packages\\sklearn\\utils\\validation.py\", line 72, in inner_f\n",
      "    return f(**kwargs)\n",
      "  File \"c:\\Users\\Libellule\\anaconda3\\envs\\learn-env\\lib\\site-packages\\sklearn\\utils\\class_weight.py\", line 70, in compute_class_weight\n",
      "    weight[i] = class_weight[c]\n",
      "ValueError: setting an array element with a sequence.\n",
      "\n",
      "  warnings.warn(\"Estimator fit failed. The score on this train-test\"\n",
      "c:\\Users\\Libellule\\anaconda3\\envs\\learn-env\\lib\\site-packages\\sklearn\\model_selection\\_validation.py:548: FitFailedWarning: Estimator fit failed. The score on this train-test partition for these parameters will be set to nan. Details: \n",
      "TypeError: float() argument must be a string or a number, not 'list'\n",
      "\n",
      "The above exception was the direct cause of the following exception:\n",
      "\n",
      "Traceback (most recent call last):\n",
      "  File \"c:\\Users\\Libellule\\anaconda3\\envs\\learn-env\\lib\\site-packages\\sklearn\\model_selection\\_validation.py\", line 531, in _fit_and_score\n",
      "    estimator.fit(X_train, y_train, **fit_params)\n",
      "  File \"c:\\Users\\Libellule\\anaconda3\\envs\\learn-env\\lib\\site-packages\\sklearn\\linear_model\\_logistic.py\", line 1356, in fit\n",
      "    self.coef_, self.intercept_, n_iter_ = _fit_liblinear(\n",
      "  File \"c:\\Users\\Libellule\\anaconda3\\envs\\learn-env\\lib\\site-packages\\sklearn\\svm\\_base.py\", line 930, in _fit_liblinear\n",
      "    class_weight_ = compute_class_weight(class_weight, classes=classes_,\n",
      "  File \"c:\\Users\\Libellule\\anaconda3\\envs\\learn-env\\lib\\site-packages\\sklearn\\utils\\validation.py\", line 72, in inner_f\n",
      "    return f(**kwargs)\n",
      "  File \"c:\\Users\\Libellule\\anaconda3\\envs\\learn-env\\lib\\site-packages\\sklearn\\utils\\class_weight.py\", line 70, in compute_class_weight\n",
      "    weight[i] = class_weight[c]\n",
      "ValueError: setting an array element with a sequence.\n",
      "\n",
      "  warnings.warn(\"Estimator fit failed. The score on this train-test\"\n",
      "c:\\Users\\Libellule\\anaconda3\\envs\\learn-env\\lib\\site-packages\\sklearn\\model_selection\\_validation.py:548: FitFailedWarning: Estimator fit failed. The score on this train-test partition for these parameters will be set to nan. Details: \n",
      "TypeError: float() argument must be a string or a number, not 'list'\n",
      "\n",
      "The above exception was the direct cause of the following exception:\n",
      "\n",
      "Traceback (most recent call last):\n",
      "  File \"c:\\Users\\Libellule\\anaconda3\\envs\\learn-env\\lib\\site-packages\\sklearn\\model_selection\\_validation.py\", line 531, in _fit_and_score\n",
      "    estimator.fit(X_train, y_train, **fit_params)\n",
      "  File \"c:\\Users\\Libellule\\anaconda3\\envs\\learn-env\\lib\\site-packages\\sklearn\\linear_model\\_logistic.py\", line 1356, in fit\n",
      "    self.coef_, self.intercept_, n_iter_ = _fit_liblinear(\n",
      "  File \"c:\\Users\\Libellule\\anaconda3\\envs\\learn-env\\lib\\site-packages\\sklearn\\svm\\_base.py\", line 930, in _fit_liblinear\n",
      "    class_weight_ = compute_class_weight(class_weight, classes=classes_,\n",
      "  File \"c:\\Users\\Libellule\\anaconda3\\envs\\learn-env\\lib\\site-packages\\sklearn\\utils\\validation.py\", line 72, in inner_f\n",
      "    return f(**kwargs)\n",
      "  File \"c:\\Users\\Libellule\\anaconda3\\envs\\learn-env\\lib\\site-packages\\sklearn\\utils\\class_weight.py\", line 70, in compute_class_weight\n",
      "    weight[i] = class_weight[c]\n",
      "ValueError: setting an array element with a sequence.\n",
      "\n",
      "  warnings.warn(\"Estimator fit failed. The score on this train-test\"\n",
      "c:\\Users\\Libellule\\anaconda3\\envs\\learn-env\\lib\\site-packages\\sklearn\\model_selection\\_validation.py:548: FitFailedWarning: Estimator fit failed. The score on this train-test partition for these parameters will be set to nan. Details: \n",
      "TypeError: float() argument must be a string or a number, not 'list'\n",
      "\n",
      "The above exception was the direct cause of the following exception:\n",
      "\n",
      "Traceback (most recent call last):\n",
      "  File \"c:\\Users\\Libellule\\anaconda3\\envs\\learn-env\\lib\\site-packages\\sklearn\\model_selection\\_validation.py\", line 531, in _fit_and_score\n",
      "    estimator.fit(X_train, y_train, **fit_params)\n",
      "  File \"c:\\Users\\Libellule\\anaconda3\\envs\\learn-env\\lib\\site-packages\\sklearn\\linear_model\\_logistic.py\", line 1356, in fit\n",
      "    self.coef_, self.intercept_, n_iter_ = _fit_liblinear(\n",
      "  File \"c:\\Users\\Libellule\\anaconda3\\envs\\learn-env\\lib\\site-packages\\sklearn\\svm\\_base.py\", line 930, in _fit_liblinear\n",
      "    class_weight_ = compute_class_weight(class_weight, classes=classes_,\n",
      "  File \"c:\\Users\\Libellule\\anaconda3\\envs\\learn-env\\lib\\site-packages\\sklearn\\utils\\validation.py\", line 72, in inner_f\n",
      "    return f(**kwargs)\n",
      "  File \"c:\\Users\\Libellule\\anaconda3\\envs\\learn-env\\lib\\site-packages\\sklearn\\utils\\class_weight.py\", line 70, in compute_class_weight\n",
      "    weight[i] = class_weight[c]\n",
      "ValueError: setting an array element with a sequence.\n",
      "\n",
      "  warnings.warn(\"Estimator fit failed. The score on this train-test\"\n",
      "c:\\Users\\Libellule\\anaconda3\\envs\\learn-env\\lib\\site-packages\\sklearn\\model_selection\\_validation.py:548: FitFailedWarning: Estimator fit failed. The score on this train-test partition for these parameters will be set to nan. Details: \n",
      "TypeError: float() argument must be a string or a number, not 'list'\n",
      "\n",
      "The above exception was the direct cause of the following exception:\n",
      "\n",
      "Traceback (most recent call last):\n",
      "  File \"c:\\Users\\Libellule\\anaconda3\\envs\\learn-env\\lib\\site-packages\\sklearn\\model_selection\\_validation.py\", line 531, in _fit_and_score\n",
      "    estimator.fit(X_train, y_train, **fit_params)\n",
      "  File \"c:\\Users\\Libellule\\anaconda3\\envs\\learn-env\\lib\\site-packages\\sklearn\\linear_model\\_logistic.py\", line 1356, in fit\n",
      "    self.coef_, self.intercept_, n_iter_ = _fit_liblinear(\n",
      "  File \"c:\\Users\\Libellule\\anaconda3\\envs\\learn-env\\lib\\site-packages\\sklearn\\svm\\_base.py\", line 930, in _fit_liblinear\n",
      "    class_weight_ = compute_class_weight(class_weight, classes=classes_,\n",
      "  File \"c:\\Users\\Libellule\\anaconda3\\envs\\learn-env\\lib\\site-packages\\sklearn\\utils\\validation.py\", line 72, in inner_f\n",
      "    return f(**kwargs)\n",
      "  File \"c:\\Users\\Libellule\\anaconda3\\envs\\learn-env\\lib\\site-packages\\sklearn\\utils\\class_weight.py\", line 70, in compute_class_weight\n",
      "    weight[i] = class_weight[c]\n",
      "ValueError: setting an array element with a sequence.\n",
      "\n",
      "  warnings.warn(\"Estimator fit failed. The score on this train-test\"\n"
     ]
    },
    {
     "name": "stdout",
     "output_type": "stream",
     "text": [
      "Best score: 0.4251216758691331 with param: {'class_weight': 'balanced'}\n"
     ]
    }
   ],
   "source": [
    "# Define the custom class weights\n",
    "custom_class_weights = {0: list(range(13, 33)), 1: list(range(190, 210))}\n",
    "\n",
    "# Define the hyperparameter grid\n",
    "hyperparam_grid = {\n",
    "    \"class_weight\": [None, \"balanced\", custom_class_weights]\n",
    "}\n",
    "\n",
    "# Define the model\n",
    "lg3 = LogisticRegression(random_state=42, fit_intercept=False, C=1e12, solver='liblinear')\n",
    "\n",
    "# Define the evaluation procedure\n",
    "grid = GridSearchCV(lg3, hyperparam_grid, scoring=\"f1\", cv=5)\n",
    "grid.fit(X_train, y_train)\n",
    "\n",
    "# Print the best score and parameters\n",
    "print(f'Best score: {grid.best_score_} with param: {grid.best_params_}');\n"
   ]
  },
  {
   "cell_type": "markdown",
   "metadata": {},
   "source": [
    "Best f1 score we found was 0.43 with 'balanced' as class weight. Let's create a new model with these parameters"
   ]
  },
  {
   "cell_type": "code",
   "execution_count": 37,
   "metadata": {},
   "outputs": [
    {
     "name": "stdout",
     "output_type": "stream",
     "text": [
      "Test Area Under Curve: 0.839831552967089\n",
      "Train Area Under Curve: 0.8388766445603509\n",
      "              precision    recall  f1-score   support\n",
      "\n",
      "           0       1.00      0.70      0.82     12950\n",
      "           1       0.27      0.98      0.43      1483\n",
      "\n",
      "    accuracy                           0.73     14433\n",
      "   macro avg       0.64      0.84      0.63     14433\n",
      "weighted avg       0.92      0.73      0.78     14433\n",
      "\n"
     ]
    },
    {
     "data": {
      "image/png": "[encoded data removed]",
      "text/plain": [
       "<Figure size 432x288 with 2 Axes>"
      ]
     },
     "metadata": {
      "needs_background": "light"
     },
     "output_type": "display_data"
    }
   ],
   "source": [
    "#create model with parameters from above\n",
    "\n",
    "#instantiate, fit and predict\n",
    "lg4 = LogisticRegression(random_state=42, class_weight= 'balanced', fit_intercept=False, C=1e12, solver='liblinear')\n",
    "lg4.fit(X_train, y_train)\n",
    "lg4_preds = lg2.predict(X_test)\n",
    "\n",
    "#performance: \n",
    "print(f'Test Area Under Curve: {roc_auc_score(y_test, lg4_preds)}')\n",
    "print(f'Train Area Under Curve: {roc_auc_score(y_train, lg4.predict(X_train))}')\n",
    "\n",
    "\n",
    "print(classification_report(y_test, lg4_preds))\n",
    "\n",
    "\n",
    "cnf_mtrx = confusion_matrix(y_test, lg4_preds)\n",
    "disp = ConfusionMatrixDisplay(confusion_matrix=cnf_mtrx, display_labels=lg4.classes_)\n",
    "disp.plot(cmap=plt.cm.Blues);"
   ]
  },
  {
   "cell_type": "markdown",
   "metadata": {},
   "source": [
    "The only difference here was a very marginal decrease in train area under curve. For Logistic regression models, the one with invereted class weights appears to be the best.\n",
    "\n",
    "Below, let's try another type of classification algorithm."
   ]
  },
  {
   "cell_type": "markdown",
   "metadata": {},
   "source": [
    "### Decision Tree"
   ]
  },
  {
   "cell_type": "markdown",
   "metadata": {},
   "source": [
    " A decision starts by selecting a feature from the training data. This feature is the one that best splits the data into two groups. The algorithm then recursively splits the data into smaller and smaller groups, using different features at each split. The process stops when all of the data points in a group belong to the same class or a specified maximum depth is reached.\n"
   ]
  },
  {
   "cell_type": "code",
   "execution_count": 38,
   "metadata": {},
   "outputs": [
    {
     "name": "stdout",
     "output_type": "stream",
     "text": [
      "test Area under the curve: 0.5296993988497697\n",
      "              precision    recall  f1-score   support\n",
      "\n",
      "           0       0.90      0.98      0.94     12950\n",
      "           1       0.33      0.08      0.13      1483\n",
      "\n",
      "    accuracy                           0.89     14433\n",
      "   macro avg       0.62      0.53      0.53     14433\n",
      "weighted avg       0.84      0.89      0.86     14433\n",
      "\n"
     ]
    },
    {
     "data": {
      "image/png": "[encoded data removed]",
      "text/plain": [
       "<Figure size 432x288 with 2 Axes>"
      ]
     },
     "metadata": {
      "needs_background": "light"
     },
     "output_type": "display_data"
    }
   ],
   "source": [
    "# Create the classifier, fit it on the training data and make predictions on the test set\n",
    "clf = DecisionTreeClassifier(criterion='entropy', random_state=42)\n",
    "clf.fit(X_train, y_train)\n",
    "#get predictions on X_test\n",
    "preds = clf.predict(X_test)\n",
    "false_positive_rate, true_positive_rate, thresholds, = roc_curve(y_test, preds)\n",
    "roc_auc= auc (false_positive_rate, true_positive_rate)\n",
    "print(f\"test Area under the curve: {roc_auc}\")\n",
    "\n",
    "print(classification_report(y_test, preds))\n",
    "cnf_mtrx = confusion_matrix(y_test, preds)\n",
    "disp = ConfusionMatrixDisplay(confusion_matrix=cnf_mtrx, display_labels=clf.classes_)\n",
    "disp.plot(cmap=plt.cm.Blues);"
   ]
  },
  {
   "cell_type": "markdown",
   "metadata": {},
   "source": [
    "The model performs fairly similar to the base logistic regression model. Below, we'll tune the max depth to see if we can improve the perfomance. "
   ]
  },
  {
   "cell_type": "markdown",
   "metadata": {},
   "source": [
    "#### Decision Tree Hyperparameter tuning"
   ]
  },
  {
   "cell_type": "markdown",
   "metadata": {},
   "source": [
    "Finding optimal tree depth: "
   ]
  },
  {
   "cell_type": "code",
   "execution_count": 39,
   "metadata": {},
   "outputs": [],
   "source": [
    "#try running through 1-30 as max_depth to find optimal value\n",
    "max_depth =list(range (1, 31))\n",
    "train_results = []\n",
    "test_results = []\n",
    "for i in max_depth:\n",
    "    # initiate classifier and fit to training set\n",
    "    clf = DecisionTreeClassifier(criterion= 'entropy', max_depth= i , random_state= 1)\n",
    "    clf.fit(X_train, y_train)\n",
    "    #predict train set and add results to train results\n",
    "    train_preds = clf.predict(X_train)\n",
    "    false_positive_rate, true_positive_rate, threshold = roc_curve(y_train, train_preds)\n",
    "    roc_auc = auc(false_positive_rate, true_positive_rate)\n",
    "    train_results.append(roc_auc)\n",
    "    #predict the test set and add results to test results\n",
    "    test_pred = clf.predict(X_test)\n",
    "    false_positive_rate, true_positive_rate, threshold = roc_curve(y_test, test_pred)\n",
    "    roc_auc = auc(false_positive_rate, true_positive_rate)\n",
    "    test_results.append(roc_auc)\n",
    "\n",
    "\n"
   ]
  },
  {
   "cell_type": "code",
   "execution_count": 40,
   "metadata": {},
   "outputs": [
    {
     "data": {
      "image/png": "[encoded data removed]",
      "text/plain": [
       "<Figure size 720x720 with 1 Axes>"
      ]
     },
     "metadata": {
      "needs_background": "light"
     },
     "output_type": "display_data"
    }
   ],
   "source": [
    "#plot above results\n",
    "plt.figure(figsize= (10,10))\n",
    "plt.plot(max_depth, train_results, color = 'b', label = 'Train AUC')\n",
    "plt.plot(max_depth, test_results, color = 'r', label = \"Test AUC\")\n",
    "# plt.ylim(0,1)\n",
    "plt.xlabel(\"Max depth\")\n",
    "plt.ylabel(\"Area under curve\")\n",
    "plt.title(\"AUC vs max_depth\")\n",
    "plt.legend()\n",
    "plt.show()\n"
   ]
  },
  {
   "cell_type": "markdown",
   "metadata": {},
   "source": [
    "From the graph above,the train AUC value keeps rising as expected while the model learns more and more about the training data. The test AUC rises up to about 6 and later at around 10 and they both flatten at around 23. \n",
    "\n",
    "Here, I assume that the AUC wasn't rising anymore for any of the tests so it must be close to the ideal number of branches. It is worth noting that the AUC value is still under 60%, so this may not be considered a very good classifier (at least not yet). \n",
    "Below, creating a model with 23 as the max_depth"
   ]
  },
  {
   "cell_type": "code",
   "execution_count": 41,
   "metadata": {},
   "outputs": [
    {
     "name": "stdout",
     "output_type": "stream",
     "text": [
      "Test Area Under Curve: 0.53000827915865\n",
      "Train Area Under Curve: 0.5858701624899526\n",
      "              precision    recall  f1-score   support\n",
      "\n",
      "           0       0.90      0.98      0.94     12950\n",
      "           1       0.34      0.08      0.13      1483\n",
      "\n",
      "    accuracy                           0.89     14433\n",
      "   macro avg       0.62      0.53      0.53     14433\n",
      "weighted avg       0.84      0.89      0.86     14433\n",
      "\n"
     ]
    },
    {
     "data": {
      "image/png": "[encoded data removed]",
      "text/plain": [
       "<Figure size 432x288 with 2 Axes>"
      ]
     },
     "metadata": {
      "needs_background": "light"
     },
     "output_type": "display_data"
    }
   ],
   "source": [
    "# Create the classifier, fit it on the training data and make predictions on the test set\n",
    "clf = DecisionTreeClassifier(criterion='entropy', max_depth=23)\n",
    "clf.fit(X_train, y_train)\n",
    "\n",
    "#get predictions on X_test\n",
    "clf_preds = clf.predict(X_test)\n",
    "\n",
    "#performance: \n",
    "\n",
    "print(f'Test Area Under Curve: {roc_auc_score(y_test, clf_preds)}')\n",
    "print(f'Train Area Under Curve: {roc_auc_score(y_train, clf.predict(X_train))}')\n",
    "print(classification_report(y_test, clf_preds))\n",
    "\n",
    "cnf_mtrx = confusion_matrix(y_test, clf_preds)\n",
    "disp = ConfusionMatrixDisplay(confusion_matrix=cnf_mtrx, display_labels=clf.classes_)\n",
    "disp.plot(cmap=plt.cm.Blues);"
   ]
  },
  {
   "cell_type": "markdown",
   "metadata": {},
   "source": [
    "Interpretation:\n",
    "The model performs only slightly worse with 23 as the max depth. However, we're running the risk of overfitting with such depths. "
   ]
  },
  {
   "cell_type": "markdown",
   "metadata": {},
   "source": [
    "#### GridsearchCV with Decision Tree"
   ]
  },
  {
   "cell_type": "code",
   "execution_count": 42,
   "metadata": {},
   "outputs": [],
   "source": [
    "#define hyper parameters grid\n",
    "dt_param_grid = {\n",
    "    \"criterion\": [\"gini\", \"entropy\"],\n",
    "    \"max_depth\": [None, 2, 3, 4, 5, 6],\n",
    "    \"min_samples_split\": [2, 5, 10],\n",
    "    \"min_samples_leaf\": [1, 2, 3, 4, 5, 6],\n",
    "}"
   ]
  },
  {
   "cell_type": "code",
   "execution_count": 43,
   "metadata": {},
   "outputs": [
    {
     "data": {
      "text/plain": [
       "{'criterion': 'gini',\n",
       " 'max_depth': 2,\n",
       " 'min_samples_leaf': 1,\n",
       " 'min_samples_split': 2}"
      ]
     },
     "execution_count": 43,
     "metadata": {},
     "output_type": "execute_result"
    }
   ],
   "source": [
    "#finding the best parameters - this code may take a while to run\n",
    "\n",
    "# Instantiate GridSearchCV\n",
    "dt_clf = DecisionTreeClassifier()\n",
    "\n",
    "dt_grid_search = GridSearchCV(dt_clf, dt_param_grid, cv=3, return_train_score=True)\n",
    "\n",
    "# Fit to the data\n",
    "dt_grid_search.fit(X_train, y_train)\n",
    "dt_grid_search.best_params_"
   ]
  },
  {
   "cell_type": "code",
   "execution_count": 44,
   "metadata": {},
   "outputs": [
    {
     "name": "stdout",
     "output_type": "stream",
     "text": [
      "Test Area Under Curve: 0.5\n",
      "Train Area Under Curve: 0.5\n",
      "              precision    recall  f1-score   support\n",
      "\n",
      "           0       0.90      1.00      0.95     12950\n",
      "           1       0.00      0.00      0.00      1483\n",
      "\n",
      "    accuracy                           0.90     14433\n",
      "   macro avg       0.45      0.50      0.47     14433\n",
      "weighted avg       0.81      0.90      0.85     14433\n",
      "\n"
     ]
    },
    {
     "name": "stderr",
     "output_type": "stream",
     "text": [
      "c:\\Users\\Libellule\\anaconda3\\envs\\learn-env\\lib\\site-packages\\sklearn\\metrics\\_classification.py:1221: UndefinedMetricWarning: Precision and F-score are ill-defined and being set to 0.0 in labels with no predicted samples. Use `zero_division` parameter to control this behavior.\n",
      "  _warn_prf(average, modifier, msg_start, len(result))\n"
     ]
    },
    {
     "data": {
      "image/png": "[encoded data removed]",
      "text/plain": [
       "<Figure size 432x288 with 2 Axes>"
      ]
     },
     "metadata": {
      "needs_background": "light"
     },
     "output_type": "display_data"
    }
   ],
   "source": [
    "# Use the parameters above to create the last model\n",
    "grd_clf = DecisionTreeClassifier(criterion='gini', max_depth=2, min_samples_leaf=1,min_samples_split=2)\n",
    "grd_clf.fit(X_train, y_train)\n",
    "\n",
    "#get predictions on X_test\n",
    "grd_clf_preds = grd_clf.predict(X_test)\n",
    "\n",
    "#performance: \n",
    "\n",
    "print(f'Test Area Under Curve: {roc_auc_score(y_test, grd_clf_preds)}')\n",
    "print(f'Train Area Under Curve: {roc_auc_score(y_train, grd_clf.predict(X_train))}')\n",
    "print(classification_report(y_test, grd_clf_preds))\n",
    "\n",
    "cnf_mtrx = confusion_matrix(y_test, grd_clf_preds)\n",
    "disp = ConfusionMatrixDisplay(confusion_matrix=cnf_mtrx, display_labels=grd_clf.classes_)\n",
    "disp.plot(cmap=plt.cm.Blues);"
   ]
  },
  {
   "cell_type": "markdown",
   "metadata": {},
   "source": [
    "Our final model appears to be the worst performer, which makes sense due to the class imbalance in the data. With only a depth of 2, on a target variable with 23:200 distribution ratio, it's sensible that the algoritm grouped everything as belonging to the majority class."
   ]
  },
  {
   "cell_type": "markdown",
   "metadata": {},
   "source": [
    "## Evaluation & Conclusion"
   ]
  },
  {
   "cell_type": "markdown",
   "metadata": {},
   "source": [
    "In the end, our logistic regression model with inverted class weights ended up being the best performer given our business context. "
   ]
  },
  {
   "cell_type": "markdown",
   "metadata": {},
   "source": [
    "While it had a low precison score, the model would allow us to arrest 98% of suspects who should be rightfully taken in. However, it should be used carefully as the high rate of false negatives could have legal consequences for the officer making the Terry Stop. "
   ]
  },
  {
   "cell_type": "markdown",
   "metadata": {},
   "source": []
  }
 ],
 "metadata": {
  "kernelspec": {
   "display_name": "learn-env",
   "language": "python",
   "name": "python3"
  },
  "language_info": {
   "codemirror_mode": {
    "name": "ipython",
    "version": 3
   },
   "file_extension": ".py",
   "mimetype": "text/x-python",
   "name": "python",
   "nbconvert_exporter": "python",
   "pygments_lexer": "ipython3",
   "version": "3.8.5"
  }
 },
 "nbformat": 4,
 "nbformat_minor": 2
}
